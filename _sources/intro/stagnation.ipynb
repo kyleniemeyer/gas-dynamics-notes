{
 "cells": [
  {
   "cell_type": "markdown",
   "id": "24e7181e-ce70-4d3b-8389-2b291dfb0ad0",
   "metadata": {},
   "source": [
    "# Stagnation properties"
   ]
  },
  {
   "cell_type": "markdown",
   "id": "c89c677c-d569-4c3e-8f7c-d71740f6dfa9",
   "metadata": {
    "tags": []
   },
   "source": [
    "Up until this point, we have exclusively referred to **static properties**, which are measured as though we are moving along with the fluid.\n",
    "\n",
    "A useful concept is the **stagnation state**, which is a reference state associated with the fluid\n",
    "being brought to rest and at zero potential, *isentropically*, and with no work done.\n",
    "This means that there is no energy exchange with surroundings ($Q = W = 0$, and $dS_e = 0$),\n",
    "there are no losses ($dS_i = 0$).\n",
    "\n",
    "## Stagnation enthalpy\n",
    "\n",
    "We can apply the energy equation from any point in the flow *a* to the stagnation reference point *b*:\n",
    "\n",
    "$$\n",
    "\\begin{align}\n",
    "h_a + \\frac{V_a^2}{2} + g z_a + q &= h_b + \\frac{V_b^2}{2} + g z_b + w_s \\\\\n",
    "\\rightarrow h_b &= h_a + \\frac{V_a^2}{2} + g z_a\n",
    "\\end{align}\n",
    "$$\n",
    "\n",
    "and thus we can define the **stagnation enthlapy**, or **total enthalpy**, as\n",
    "\n",
    "$$\n",
    "h_t = h + \\frac{V^2}{2} + g z\n",
    "$$\n",
    "\n",
    "```{important}\n",
    "\n",
    "The stagnation state is a reference state, and may or may not actually exist physically in a flow system.\n",
    "```\n",
    "\n",
    "The one-dimensional steady energy equation can then be written as \n",
    "\n",
    "$$\n",
    "h_{t1} + q = h_{t2} + w_s \\;,\n",
    "$$\n",
    "\n",
    "or $\\delta q = \\delta w_s + d h_t$. "
   ]
  },
  {
   "cell_type": "markdown",
   "id": "dab6138a-5a80-466b-9eb8-5736b19ffc62",
   "metadata": {},
   "source": [
    ":::{important}\n",
    "In an adiabatic, no-work system ($\\delta q = \\delta w_s = 0$), \n",
    "**stagnation enthalpy remains constant**.\n",
    ":::"
   ]
  },
  {
   "cell_type": "markdown",
   "id": "b366901b-91b2-4506-a6e5-141491068550",
   "metadata": {},
   "source": [
    "## Stagnation pressure\n",
    "\n",
    "We can also consider a **stagnation pressure**, which is the pressure at the stagnation state.\n",
    "Applying our property relationship to the stagnation state:\n",
    "\n",
    "$$\n",
    "\\begin{align}\n",
    "T \\, ds &= dh - v \\, dp \\\\\n",
    "\\rightarrow T_t \\, ds_t &= d h_t - v_t \\, d p_t\n",
    "\\end{align}\n",
    "$$\n",
    "\n",
    "where $d s_t = ds = ds_e + ds_i$, since the stagnation process is isentropic.\n",
    "We can combine this with the (stagnation) energy equation:\n",
    "\n",
    "$$\n",
    "\\begin{gather*}\n",
    "T_t \\left( ds_e + ds_i \\right) = dh_t - v_t \\, dp_t \\\\\n",
    "\\delta q = \\delta w_s + d h_t \\\\\n",
    "\\delta q = \\delta w_s + T_t \\left( ds_e + ds_i \\right) + v_t \\, dp_t \\\\\n",
    "\\rightarrow \\frac{dp_t}{\\rho_t} + ds_e (T_t - T) + T_t \\, ds_i + \\delta w_s = 0 \\;,\n",
    "\\end{gather*}\n",
    "$$\n",
    "\n",
    "which is the **stagnation pressure-energy equation**.\n",
    "This looks complicated, but tells us something useful.\n",
    "If we consider a process with no shaft work ($\\delta w_s = 0$), \n",
    "no heat transfer ($\\delta q = 0$), and no losses ($ds_i = 0$),\n",
    "then \n",
    "\n",
    "$$\n",
    "\\frac{d p_t}{\\rho_t} = 0 = d p_t \\;,\n",
    "$$\n",
    "\n",
    "or stagnation pressure is constant.\n",
    "\n",
    "Losses will be present in most real systems, and so the more realistic version of this equation is\n",
    "\n",
    "$$\n",
    "\\frac{d p_t}{\\rho_t} + T_t \\, ds_i = 0 \\,\n",
    "$$\n",
    "\n",
    "which shows us that losses cause the stagnation pressure to decrease (since $ds_i > 0$).\n",
    "\n",
    "```{important}\n",
    "\n",
    "The stagnation state, as well as stagnation enthalpy and stagnation pressure, are very important concepts that we will use throughout this course. You should always consider whether these quantities are constant or changing in a given scenario.\n",
    "```"
   ]
  }
 ],
 "metadata": {
  "kernelspec": {
   "display_name": "Python 3 (ipykernel)",
   "language": "python",
   "name": "python3"
  },
  "language_info": {
   "codemirror_mode": {
    "name": "ipython",
    "version": 3
   },
   "file_extension": ".py",
   "mimetype": "text/x-python",
   "name": "python",
   "nbconvert_exporter": "python",
   "pygments_lexer": "ipython3",
   "version": "3.8.12"
  }
 },
 "nbformat": 4,
 "nbformat_minor": 5
}
