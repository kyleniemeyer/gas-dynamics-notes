{
 "cells": [
  {
   "cell_type": "markdown",
   "metadata": {},
   "source": [
    "# Variable-area flows: introduction\n",
    "\n"
   ]
  },
  {
   "cell_type": "code",
   "execution_count": 2,
   "metadata": {},
   "outputs": [],
   "source": [
    "# Necessary modules to solve problems\n",
    "import numpy as np\n",
    "from scipy.optimize import root_scalar\n",
    "\n",
    "%matplotlib inline\n",
    "from matplotlib import pyplot as plt"
   ]
  },
  {
   "cell_type": "code",
   "execution_count": 3,
   "metadata": {
    "tags": [
     "hide-cell"
    ]
   },
   "outputs": [],
   "source": [
    "# these lines are only for helping improve the display\n",
    "import matplotlib_inline.backend_inline\n",
    "matplotlib_inline.backend_inline.set_matplotlib_formats('pdf', 'png')\n",
    "plt.rcParams['figure.dpi']= 150\n",
    "plt.rcParams['savefig.dpi'] = 150"
   ]
  },
  {
   "cell_type": "markdown",
   "metadata": {},
   "source": [
    "## Equations for perfect gases\n",
    "\n",
    "$$\n",
    "\\frac{A_2}{A_1} = \\frac{M_1}{M_2} \\left[ \\frac{1 + \\frac{\\gamma-1}{2} M_2^2}{1 + \\frac{\\gamma-1}{2} M_1^2} \\right]^{\\frac{\\gamma+1}{2(\\gamma-1)}} e^{\\Delta s/R}\n",
    "$$"
   ]
  },
  {
   "cell_type": "markdown",
   "metadata": {},
   "source": [
    "### Example: isentropic flow\n",
    "\n",
    "**Problem:** Air flows isentropically through a duct ($\\gamma = 1.4$) where the area is changing from point 1 to 2, \n",
    "with no heat transfer or shaft work. The area ratio is $\\frac{A_2}{A_1} = 2.5$, the flow starts at $M_1 = 0.5$ and 4 bar.\n",
    "Find the Mach number and pressure at the second point in the duct.\n",
    "\n",
    "We can solve this using the classical approach (pre-calculated isentropic tables) or a numerical approach;\n",
    "both follow the same general approach:\n",
    "1. Find $M_2$ associated with the area ratio $A_2 / A_2^*$, then\n",
    "2. Use that to find the stagnation pressure ratio $p_2 / p_{t2}$.\n",
    "\n",
    "$$\n",
    "\\frac{A_2}{A_2^*} = \\frac{A_2}{A_1} \\frac{A_1}{A_1^*} \\frac{A_1^*}{A_2^*} \\;,\n",
    "$$\n",
    "\n",
    "where $\\frac{A_2}{A_1} = 2.5$ is given, we can find $\\frac{A_1}{A_1^*}$ using\n",
    "\n",
    "$$\n",
    "\\frac{A}{A^*} = \\frac{1}{M} \\left( \\frac{1 + \\frac{\\gamma - 1}{2} M^2}{\\frac{\\gamma+1}{2}} \\right)^{\\frac{\\gamma+1}{2(\\gamma-1)}} \\;,\n",
    "$$\n",
    "\n",
    "(either by calculating or looking up in the $\\gamma = 1.4$ table) \n",
    "and $\\frac{A_1^*}{A_2^*} = 1$ because the flow is isentropic."
   ]
  },
  {
   "cell_type": "code",
   "execution_count": 4,
   "metadata": {},
   "outputs": [
    {
     "name": "stdout",
     "output_type": "stream",
     "text": [
      "A1/A1^* = 1.3398\n"
     ]
    }
   ],
   "source": [
    "gamma = 1.4\n",
    "mach_1 = 0.5\n",
    "\n",
    "A2_A1 = 2.5\n",
    "A1star_A2star = 1.0 # isentropic\n",
    "\n",
    "A1_A1star = (1.0/mach_1) * ((1 + 0.5*(gamma-1)*mach_1**2) / ((gamma + 1)/2))**((gamma+1) / (2*(gamma-1)))\n",
    "print(f'A1/A1^* = {A1_A1star:.4f}')"
   ]
  },
  {
   "cell_type": "code",
   "execution_count": 5,
   "metadata": {},
   "outputs": [
    {
     "name": "stdout",
     "output_type": "stream",
     "text": [
      "A2/A2star = 3.3496\n"
     ]
    }
   ],
   "source": [
    "A2_A2star = A2_A1 * A1_A1star * A1star_A2star\n",
    "print(f'A2/A2star = {A2_A2star:.4f}')"
   ]
  },
  {
   "cell_type": "markdown",
   "metadata": {},
   "source": [
    "We can then find $M2$, because $\\frac{A_2}{A_2*} = f(M_2)$. \n",
    "Our options are to use the $\\gamma = 1.4$ tables and interpolate, or solve the associated equation numerically.\n",
    "\n",
    "**Using tables:** We can find in the tables that:\n",
    "* at $M=0.17$, $A/A^* = 3.46351$\n",
    "* at $M = 0.18$, $A/A^* = 3.27793$\n",
    "\n",
    "and interpolate to find the precise $M_2$:"
   ]
  },
  {
   "cell_type": "code",
   "execution_count": 6,
   "metadata": {},
   "outputs": [
    {
     "name": "stdout",
     "output_type": "stream",
     "text": [
      "M2 = 0.1761\n"
     ]
    }
   ],
   "source": [
    "machs = np.array([0.17, 0.18])\n",
    "areas = np.array([3.46351, 3.27793])\n",
    "mach_2 = (machs[0] * (areas[1] - A2_A2star) + machs[1] * (A2_A2star - areas[0])) / (areas[1] - areas[0])\n",
    "print(f'M2 = {mach_2:.4f}')"
   ]
  },
  {
   "cell_type": "markdown",
   "metadata": {},
   "source": [
    "This is probably sufficient, but we could get a more-accurate result by interpolating using more points and using the `numpy.interp()` function:"
   ]
  },
  {
   "cell_type": "code",
   "execution_count": 7,
   "metadata": {},
   "outputs": [
    {
     "name": "stdout",
     "output_type": "stream",
     "text": [
      "M2 = 0.1761\n"
     ]
    }
   ],
   "source": [
    "machs = np.array([0.15, 0.16, 0.17, 0.18, 0.19])\n",
    "areas = np.array([3.91034, 3.67274, 3.46351, 3.27793, 3.11226])\n",
    "\n",
    "mach_2 = np.interp(A2_A2star, areas[::-1], machs[::-1])\n",
    "print(f'M2 = {mach_2:.4f}')"
   ]
  },
  {
   "cell_type": "markdown",
   "metadata": {},
   "source": [
    "Note that we have to reverse the order of the values, since `interp` expects the x-values to be increasing.\n",
    "Also, we could easily generate these values ourselves for a different value of $\\gamma$, but it is likely\n",
    "easier to just solve the equation directly in that case\n",
    "\n",
    "**Using the equation:** Alternately, we can solve the equation directly using `scipy.optimize.root_scalar`:"
   ]
  },
  {
   "cell_type": "code",
   "execution_count": 8,
   "metadata": {},
   "outputs": [
    {
     "name": "stdout",
     "output_type": "stream",
     "text": [
      "M2 = 0.1760\n"
     ]
    }
   ],
   "source": [
    "def area_function(mach, gamma, area_ratio):\n",
    "    '''Function for area ratio, solving for M2'''\n",
    "    return area_ratio - ((1.0/mach) * ((1 + 0.5*(gamma-1)*mach**2) / ((gamma + 1)/2))**((gamma+1) / (2*(gamma-1))))\n",
    "\n",
    "sol = root_scalar(area_function, args=(gamma, A2_A2star), x0=0.1, x1=0.5)\n",
    "print(f'M2 = {sol.root:.4f}')"
   ]
  },
  {
   "cell_type": "code",
   "execution_count": null,
   "metadata": {},
   "outputs": [],
   "source": []
  }
 ],
 "metadata": {
  "kernelspec": {
   "display_name": "Python 3 (ipykernel)",
   "language": "python",
   "name": "python3"
  },
  "language_info": {
   "codemirror_mode": {
    "name": "ipython",
    "version": 3
   },
   "file_extension": ".py",
   "mimetype": "text/x-python",
   "name": "python",
   "nbconvert_exporter": "python",
   "pygments_lexer": "ipython3",
   "version": "3.9.7"
  }
 },
 "nbformat": 4,
 "nbformat_minor": 4
}
