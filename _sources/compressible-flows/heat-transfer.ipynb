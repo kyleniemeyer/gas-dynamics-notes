{
 "cells": [
  {
   "cell_type": "markdown",
   "id": "2d1f78a7-15ca-48d2-af53-78da392e26cc",
   "metadata": {},
   "source": [
    "# Flows with heat transfer (Rayleigh flows)"
   ]
  },
  {
   "cell_type": "code",
   "execution_count": 4,
   "id": "a3c33a70-9b9e-4b46-a8d5-91bcca15e9af",
   "metadata": {
    "tags": [
     "hide-cell"
    ]
   },
   "outputs": [],
   "source": [
    "%matplotlib inline\n",
    "from matplotlib import pyplot as plt\n",
    "\n",
    "import numpy as np\n",
    "from scipy.optimize import root_scalar\n",
    "\n",
    "# Pint gives us some helpful unit conversion\n",
    "from pint import UnitRegistry\n",
    "ureg = UnitRegistry()\n",
    "Q_ = ureg.Quantity # We will use this to construct quantities (value + unit)"
   ]
  },
  {
   "cell_type": "code",
   "execution_count": 5,
   "id": "d432ba5a-d446-4cfb-acc5-2a4ce078e225",
   "metadata": {
    "tags": [
     "hide-cell"
    ]
   },
   "outputs": [],
   "source": [
    "# these lines are only for helping improve the display\n",
    "import matplotlib_inline.backend_inline\n",
    "matplotlib_inline.backend_inline.set_matplotlib_formats('pdf', 'png')\n",
    "plt.rcParams['figure.dpi']= 300\n",
    "plt.rcParams['savefig.dpi'] = 300\n",
    "plt.rcParams['mathtext.fontset'] = 'cm'"
   ]
  },
  {
   "cell_type": "markdown",
   "id": "5c4e6a38-17c8-44b2-802f-7d1d6f503317",
   "metadata": {},
   "source": [
    "Heat transfer is the third main factor that can affect a compressible flow, after area change and friction.\n",
    "\n",
    "**Rayleigh flow** is the specific case of frictionless flow in a constant-area duct, with heat transfer. Rayleigh flow applies to constant-area heat exchangers and combustion chambers where the entropy changes due to heat transfer are significantly larger than those due to friction:\n",
    "\n",
    "$$\n",
    "d s_e \\gg d s_i \\;,\n",
    "$$\n",
    "\n",
    "so we can neglect frictional effects and say $ ds \\approx ds_e $.\n",
    "\n",
    "## Rayleigh flow theory\n",
    "\n",
    ":::{figure-md} fig-rayleigh-cv\n",
    "<img src=\"../images/rayleigh-flow-control-volume.*\" alt=\"Control volume for Rayleigh flow\" class=\"bg-white mb-1\" width=\"400px\">\n",
    "\n",
    "Differential control volume for frictionless flow in a constant-area duct with heat transfer.\n",
    ":::\n",
    "\n",
    "{numref}`Figure {number}<fig-rayleigh-cv>` shows a control volume in a constant-area duct, where the flow starts out with velocity $V$, density $\\rho$, and pressure $p$. \n",
    "A small amount of heat $\\delta q$ is added to the flow. \n",
    "The width of the differential control volume is $dx$ and the cross-sectional area of the duct is $A$.\n",
    "\n",
    "For a general fluid, we can apply conservation of mass:\n",
    "\n",
    "\\begin{gather*}\n",
    "\\rho V = (\\rho + d\\rho) (V + dV)\n",
    "\\rightarrow \\rho V = G = \\text{constant} \\;.\n",
    "\\end{gather*}\n",
    "\n",
    "Applying conservation of momentum gives\n",
    "\n",
    "\\begin{gather*}\n",
    "\\sum F_x = \\dot{m} \\left( V_{\\text{out}, x} - V_{\\text{in}, x} \\right) \\\\\n",
    "pA - (p + dp) A = (\\rho A V) \\left[ (V + dV) - V \\right] \\\\\n",
    "- A dp = \\rho A V dV \\\\\n",
    "dp + \\rho V dV = 0 \\;,\n",
    "\\end{gather*}\n",
    "\n",
    "which we can integrate through the flow (since $\\rho V = $ constant) to get\n",
    "\n",
    "$$\n",
    "p + \\rho V^2 = \\text{constant}\n",
    "$$ (eq_rayleigh_momentum)\n",
    "\n",
    "\n",
    "Next, applying conservation of energy:\n",
    "\n",
    "\\begin{gather*}\n",
    "\\delta q - \\delta w_s = \\left[ (h+dh) + \\frac{(V+dV)^2}{2} \\right] - \\left( h + \\frac{V^2}{2} \\right) \\\\\n",
    "\\delta q = dh + V dV \\;.\n",
    "\\end{gather*}\n",
    "\n",
    "For an ideal gas, where $ dh = c_p dT $, we can express the above as\n",
    "\n",
    "$$\n",
    "\\delta q = c_p dT + V dV \\;.\n",
    "$$\n",
    "\n",
    "Recall the definitions of stagnation enthalpy and temperature:\n",
    "\n",
    "$$\n",
    "h_t = c_p T_t = h + \\frac{V^2}{2} = c_p T + \\frac{V^2}{2} \\;.\n",
    "$$\n",
    "\n",
    "If we differentiate, we get\n",
    "\n",
    "$$\n",
    "d h_t = c_p d T_t = c_p T + V dV\n",
    "$$\n",
    "\n",
    "and see that\n",
    "\n",
    "$$\n",
    "\\delta q = d h_t = c_p d T_t \\;.\n",
    "$$\n",
    "\n",
    "We can see that stagnation enthlapy is **not constant**.\n",
    "\n",
    "```{warning}\n",
    "Up to this point, we have been able to rely on the fact that stagnation enthalpy and stagnation temperature are constant. However, this is not the case in Rayleigh flows due to heat transfer.\n",
    "```\n",
    "\n",
    "We can use these relationships to develop a $T$–$s$ or $h$–$s$ diagram of a **Rayleigh line**, based on the property relationship\n",
    "\n",
    "\\begin{gather*}\n",
    "T ds = dh - v dp \\\\\n",
    "ds = c_p \\frac{dT}{T} - R \\frac{dp}{p} \\;,\n",
    "\\end{gather*}\n",
    "\n",
    "which we can integrate from some reference state 1 to some general state:\n",
    "\n",
    "$$\n",
    "\\frac{s-s_1}{c_p} = \\log \\frac{T}{T_1} - \\frac{\\gamma-1}{\\gamma} \\log \\frac{p}{p_1} \\;.\n",
    "$$ (eq_entropy_difference_initial)\n",
    "\n",
    "To express the entropy difference $ (s - s_1)/c_p $ only in terms of relative temperature $ T / T_1 $ and the reference Mach number $ M_1 $ we need to do a bit of work, but we can obtain\n",
    "\n",
    "$$\n",
    "\\frac{s - s_1}{c_p} = \\log \\frac{T}{T_1} - \\frac{\\gamma - 1}{\\gamma} \\log \\left[ \\frac{(1 + \\gamma M_1^2) \\pm \\sqrt{ \\left(1 + \\gamma M_1^2 \\right)^2 - 4 \\gamma M_1^2 (T/T_1)}}{2} \\right] \\;,\n",
    "$$ (eq_entropy_rayleigh)\n",
    "\n",
    "where the $+$ sign in the equation is used for the upper branch of the Rayleigh line to the point of maximum temperature, and the $-$ sign in the equation is used for the lower part of the curve.\n",
    "Given a reference Mach number $M_1$ and specific heat ratio $\\gamma$, we can use Equation {eq}`eq_entropy_rayleigh` to compute a Rayleigh line on a $T$–$s$ diagram, using relative temperature $T / T_1$ and entropy $ (s - s_1)/c_p $.\n",
    "\n",
    ":::{admonition} Detailed derivation\n",
    ":class: tip, dropdown\n",
    "\n",
    "Recall from Equation {eq}`eq_rayleigh_momentum` we have that $p + \\rho V^2 = $ constant.\n",
    "We can express this in terms of Mach number using the speed of sound definition ($ a^2 = \\gamma R T $):\n",
    "\n",
    "\\begin{gather*}\n",
    "p + \\rho V^2 = \\text{constant} \\\\\n",
    "p \\left(1 +  \\frac{V^2}{RT} \\right) = \\text{constant}\n",
    "\\end{gather*}\n",
    "\n",
    "$$\n",
    "p \\left(1 + \\gamma M^2 \\right) = \\text{constant}\n",
    "$$ (eq_pressure_constant)\n",
    "\n",
    "$$\n",
    "\\therefore \\frac{p}{p_1} = \\frac{1 + \\gamma M_1^2}{1 + \\gamma M^2}\n",
    "$$ (eq_pressure_mach_relationship)\n",
    "\n",
    "We can express the Mach number at any point in the flow based on the pressure ratio by rearranging that equation:\n",
    "\n",
    "$$\n",
    "M^2 = \\frac{1}{\\gamma} \\left[ \\frac{p_1}{p} \\left( 1 + \\gamma M_1^2 \\right) - 1 \\right] \\;.\n",
    "$$ (eq_mach_pressure_ratio)\n",
    "\n",
    "From the ideal gas equation of state, and conservation of mass, we can express temperature at any point in the flow with\n",
    "\n",
    "\\begin{gather*}\n",
    "T = \\frac{p}{\\rho R} = \\frac{p A M \\sqrt{\\gamma R T}}{\\dot{m} R} \\\\\n",
    "\\sqrt{T} = \\frac{A \\sqrt{\\gamma R}}{\\dot{m} R} p M = (\\text{constant}) p M \\\\\n",
    "T = (\\text{constant}) p^2 M^2 \\;,\n",
    "\\end{gather*}\n",
    "\n",
    "which we can combine with Equation {eq}`eq_pressure_constant` (note that the constants are not the same but can be combined into a new constant) to get\n",
    "\n",
    "\\begin{gather*}\n",
    "T = (\\text{constant}) \\frac{M^2}{\\left( 1 + \\gamma M^2 \\right)^2} \\\\\n",
    "\\rightarrow T \\frac{\\left( 1 + \\gamma M^2 \\right)^2}{M^2} = (\\text{constant}) \\\\\n",
    "T \\frac{\\left( 1 + \\gamma M^2 \\right)^2}{M^2} = T_1 \\frac{\\left( 1 + \\gamma M_1^2 \\right)^2}{M_1^2}\n",
    "\\end{gather*}\n",
    "\n",
    "$$\n",
    "\\frac{T}{T_1} = \\frac{M^2}{M_1^2} \\frac{\\left( 1 + \\gamma M_1^2 \\right)^2}{\\left( 1 + \\gamma M^2 \\right)^2}\n",
    "$$ (eq_rayleigh_temperature_ratio_reference)\n",
    "\n",
    "Rearranging this, we get\n",
    "\n",
    "$$\n",
    "\\frac{T}{T_1} \\frac{M_1^2}{M^2} = \\frac{\\left( 1 + \\gamma M_1^2 \\right)^2}{\\left( 1 + \\gamma M^2 \\right)^2}\n",
    "$$\n",
    "\n",
    "Combine this with Equations {eq}`eq_pressure_mach_relationship` and {eq}`eq_mach_pressure_ratio`:\n",
    "\n",
    "\\begin{gather*}\n",
    "\\frac{p}{p_1} = \\frac{\\left( 1 + \\gamma M_1^2 \\right)^2}{\\left( 1 + \\gamma M^2 \\right)^2} = \\sqrt{\\frac{T}{T_1}} \\frac{M_1}{M} \\\\\n",
    "\\frac{p}{p_1} M = M_1 \\sqrt{\\frac{T}{T_1}} \\\\\n",
    "\\frac{p}{p_1} \\sqrt{\\frac{1}{\\gamma} \\left[ \\frac{p_1}{p} \\left( 1 + \\gamma M_1^2 \\right) - 1 \\right]} = M_1 \\sqrt{\\frac{T}{T_1}} \\\\\n",
    "\\left( \\frac{p}{p_1} \\right)^2 \\left( \\frac{1}{\\gamma} \\right) \\left[ \\frac{p_1}{p} \\left( 1 + \\gamma M_1^2 \\right) - 1 \\right] = M_1^2 \\frac{T}{T_1} \\\\\n",
    "\\rightarrow \\left( \\frac{p}{p_1} \\right)^2 - \\left( 1 + \\gamma M_1^2 \\right) \\left( \\frac{p}{p_1} \\right) + \\gamma M_1^2 \\frac{T}{T_1} \\;,\n",
    "\\end{gather*}\n",
    "\n",
    "which is a quadratic equation. We can solve for $ p / p_1 $:\n",
    "\n",
    "$$\n",
    "\\frac{p}{p_1} = \\frac{1 + \\gamma M_1^2}{2} \\pm \\frac{\\sqrt{(1 + \\gamma M_1^2)^2 - 4 \\gamma M_1^2 (T/T_1)}}{2} \\;,\n",
    "$$\n",
    "\n",
    "which can be subtituted into Equation {eq}`eq_entropy_difference_initial` to obtain Equation {eq}`eq_entropy_rayleigh`. Whew!\n",
    "\n",
    ":::"
   ]
  },
  {
   "cell_type": "code",
   "execution_count": 6,
   "id": "53f4285d-9a1c-4e88-818a-e6df1f40ab1d",
   "metadata": {},
   "outputs": [
    {
     "data": {
      "application/pdf": "[encoded data removed]",
      "image/png": "[encoded data removed]",
      "text/plain": [
       "<Figure size 1800x1200 with 1 Axes>"
      ]
     },
     "metadata": {
      "needs_background": "light"
     },
     "output_type": "display_data"
    }
   ],
   "source": [
    "gamma = 1.3\n",
    "M1 = 3.0\n",
    "Tt_T1 = 1 + 0.5*(gamma-1)*M1**2\n",
    "\n",
    "max_temp_ratio = (1+gamma*M1**2)**2 / (4*gamma*M1**2)\n",
    "\n",
    "T_T1 = np.linspace(1.0, max_temp_ratio, 300)\n",
    "delta_s_cp_upper = (\n",
    "    np.log(T_T1) - (gamma-1)*np.log(\n",
    "        (1+gamma*M1**2 + np.sqrt((1+gamma*M1**2)**2 - 4*gamma*T_T1*M1**2))/2\n",
    "        ) / gamma\n",
    "    )\n",
    "delta_s_cp_lower = (\n",
    "    np.log(T_T1) - (gamma-1)*np.log(\n",
    "        (1+gamma*M1**2 - np.sqrt((1+gamma*M1**2)**2 - 4*gamma*T_T1*M1**2))/2\n",
    "        ) / gamma\n",
    "    )\n",
    "\n",
    "fig, ax = plt.subplots()\n",
    "\n",
    "ax.plot(\n",
    "    np.hstack((delta_s_cp_lower, delta_s_cp_upper[::-1])),\n",
    "    np.hstack((T_T1, T_T1[::-1]))\n",
    "    )\n",
    "ax.set_title(r'Rayleigh line ($\\gamma = 1.3$)')\n",
    "ax.set_xlabel(r'$(s - s_1) / c_p$')\n",
    "ax.set_ylabel(r'$T / T_1$')\n",
    "ax.set_xlim([0, 0.9])\n",
    "ax.grid(True)\n",
    "#plt.savefig('rayleigh-line.png')\n",
    "plt.tight_layout()\n",
    "plt.show()\n",
    "#plt.close()"
   ]
  },
  {
   "cell_type": "markdown",
   "id": "a88b6642-3354-4e96-9eaf-097be14e97f8",
   "metadata": {},
   "source": [
    "As with Fanno flows, we see that there is a limiting point of maximum entropy.\n",
    "However, *unlike* with Fanno flows, we can move both to the left and right along a Rayleigh line, because heat can be added or removed. Adding heat means positive entropy and moving towards the limiting point, and removing heat means entropy decreases and moving away from the limiting point.\n",
    "\n",
    "Identifying the state associated with this limiting point follows a similar procedure as with Fanno flows.\n",
    "From conservation of mass, we have $ G = \\rho V = $ constant. From conservation of momentum given by Equation {eq}`eq_rayleigh_momentum`, we have\n",
    "\n",
    "\\begin{gather*}\n",
    "p + \\rho V^2 = \\frac{G^2}{\\rho} = \\text{constant} \\\\\n",
    "dp + G^2 \\left(- \\frac{d\\rho}{\\rho^2} \\right) = 0 \\\\\n",
    "\\frac{dp}{d\\rho} = \\frac{G^2}{\\rho^2} = V^2 \\\\\n",
    "\\end{gather*}\n",
    "\n",
    "This relationship applies to any fluid, between two differentially separated states on a Rayleigh line.\n",
    "If we apply this at two points right around the limiting point of maximum entropy, then entropy is constant and $ ds = 0 $:\n",
    "\n",
    "\\begin{gather*}\n",
    "V^2 = \\left( \\frac{dp}{d\\rho} \\right)_{\\text{limiting point}} = \\left( \\frac{\\partial p}{\\partial \\rho} \\right)_{s} \\\\\n",
    "\\therefore V^2 = a^2\n",
    "\\end{gather*}\n",
    "\n",
    "and the velocity is sonic at the limiting point.\n",
    "\n",
    "```{admonition} Rayleigh flow\n",
    ":class: tip\n",
    "\n",
    "The upper branch of a Rayleigh line corresponds to **subsonic** flow, and the lower branch corresponds to **supersonic** flow. Adding heat moves a flow towards a Mach number of one, and removing heat moves a flow away from a Mach number of one.\n",
    "```"
   ]
  },
  {
   "cell_type": "markdown",
   "id": "014e3e9b-4319-4998-a0ec-6c76bc34c9c0",
   "metadata": {},
   "source": [
    "## Working relations for Rayleigh flows\n",
    "\n",
    "Based on the analysis above, we can establish working relations for properties in a Rayleigh flow as a function of Mach number.\n",
    "\n",
    "### Static properties\n",
    "\n",
    "From conservation of mometum, we already have an expression for pressure given by Equation {eq}`eq_pressure_constant`, which we can express between two points as\n",
    "\n",
    "$$\n",
    "\\frac{p_2}{p_1} = \\frac{1 + \\gamma M_1^2}{1 + \\gamma M_2^2} \\;.\n",
    "$$ (eq_rayleigh_pressure)\n",
    "\n",
    "We also already developed a relationship between temperature at two points in the flow in Equation {eq}`eq_rayleigh_temperature_ratio_reference`, which we can express in general as\n",
    "\n",
    "$$\n",
    "\\frac{T_2}{T_1} = \\frac{M_2^2}{M_1^2} \\left( \\frac{1 + \\gamma M_1^2}{1 + \\gamma M_2^2} \\right)^2\n",
    "$$ (eq_rayleigh_temperature)\n",
    "\n",
    "To get a relationship for density, we can use conservation of mass and the speed of sound for an ideal gas:\n",
    "\n",
    "\\begin{gather*}\n",
    "\\rho_1 V_1 = \\rho_2 V_2 \\\\\n",
    "\\frac{\\rho_2}{\\rho_1} = \\frac{V_1}{V_2} = \\frac{M_1 \\sqrt{\\gamma R T_1}}{M_2 \\sqrt{\\gamma R T_2}} = \\frac{M_1}{M_2} \\sqrt{\\frac{T_1}{T_2}}\n",
    "\\end{gather*}\n",
    "\n",
    "and then substitute Equation {eq}`eq_rayleigh_temperature` to get\n",
    "\n",
    "$$\n",
    "\\frac{\\rho_2}{\\rho_1} = \\frac{M_1^2}{M_2^2} \\left( \\frac{ 1 + \\gamma M_2^2}{1 + \\gamma M_2^2 } \\right) \\;.\n",
    "$$ (eq_rayleigh_density)\n",
    "\n",
    "### Stagnation properties\n",
    "\n",
    "We know that the stagnation temperature does not remain constant in a Rayleigh flow, so we need an expression for stagnation temperature ratio. Using the definition of stagnation temperature\n",
    "\n",
    "$$\n",
    "T_t = T \\left( 1 + \\frac{\\gamma - 1}{2} M^2 \\right) \\;,\n",
    "$$\n",
    "\n",
    "we can write this for locations 1 and 2 and take the ratio to get\n",
    "\n",
    "$$\n",
    "\\frac{T_{t2}}{T_{t1}} = \\frac{T_2}{T_1} \\left( \\frac{1 + \\frac{\\gamma-1}{2} M_2^2}{1 + \\frac{\\gamma-1}{2} M_1^2} \\right) \\;,\n",
    "$$\n",
    "\n",
    "which we can combine with the static temperature ratio given by Equation {eq}`eq_rayleigh_temperature` to get\n",
    "\n",
    "$$\n",
    "\\frac{T_{t2}}{T_{t1}} = \\frac{M_2^2}{M_1^2} \\left( \\frac{1 + \\gamma M_1^2}{1 + \\gamma M_2^2} \\right)^2 \\left( \\frac{1 + \\frac{\\gamma-1}{2} M_2^2}{1 + \\frac{\\gamma-1}{2} M_1^2} \\right) \\;.\n",
    "$$ (eq_rayleigh_stag_temperature)\n",
    "\n",
    "Similarly, we can get the stagnation pressure ratio by taking the definition of stagnation pressure\n",
    "\n",
    "$$\n",
    "p_t = p \\left( 1 + \\frac{\\gamma-1}{2} M^2 \\right)^{\\gamma/(\\gamma-1)}\n",
    "$$\n",
    "\n",
    "and taking the ratio between two locations:\n",
    "\n",
    "$$\n",
    "\\frac{p_{t2}}{p_{t1}} = \\frac{p_2}{p_1} \\left( \\frac{1 + \\frac{\\gamma-1}{2} M_2^2}{1 + \\frac{\\gamma-1}{2} M_1^2} \\right)^{\\gamma / (\\gamma - 1)} \\;.\n",
    "$$\n",
    "\n",
    "Then, substitute the static pressure ratio in Equation {eq}`eq_rayleigh_pressure`:\n",
    "\n",
    "$$\n",
    "\\frac{p_{t2}}{p_{t1}} = \\frac{1 + \\gamma M_1^2}{1 + \\gamma M_2^2} \\left( \\frac{1 + \\frac{\\gamma-1}{2} M_2^2}{1 + \\frac{\\gamma-1}{2} M_1^2} \\right)^{\\gamma / (\\gamma - 1)} \\;.\n",
    "$$ (eq_rayleigh_stag_pressure)\n",
    "\n",
    "We can write functions to evaluate these property ratios:"
   ]
  },
  {
   "cell_type": "code",
   "execution_count": 7,
   "id": "dd05e6e6-d210-4271-b206-b1d56546091d",
   "metadata": {},
   "outputs": [],
   "source": [
    "def get_rayleigh_pressure_ratio(mach_1, mach_2, gamma=1.4):\n",
    "    '''Return p2/p1 for Rayleigh flow'''\n",
    "    return ((1 + gamma*mach_1**2) / (1 + gamma*mach_2**2))\n",
    "\n",
    "def get_rayleigh_temperature_ratio(mach_1, mach_2, gamma=1.4):\n",
    "    '''Return T2/T1 for Rayleigh flow'''\n",
    "    return (\n",
    "        ((1 + gamma*mach_1**2) / (1 + gamma*mach_2**2))**2 *\n",
    "        (mach_2**2 / mach_1**2)\n",
    "        )\n",
    "            \n",
    "def get_rayleigh_density_ratio(mach_1, mach_2, gamma=1.4):\n",
    "    '''Return rho2/rho1 for Rayleigh flow'''\n",
    "    return (\n",
    "        ((1 + gamma*mach_2**2) / (1 + gamma*mach_1**2)) *\n",
    "        (mach_1**2 / mach_2**2)\n",
    "        )\n",
    "            \n",
    "def get_rayleigh_stag_temperature_ratio(mach_1, mach_2, gamma=1.4):\n",
    "    '''Return Tt2/Tt1 for Rayleigh flow'''\n",
    "    return (\n",
    "        ((1 + gamma*mach_1**2) / (1 + gamma*mach_2**2))**2 * \n",
    "            (mach_2 / mach_1)**2 * (\n",
    "            (1 + 0.5*(gamma-1)*mach_2**2) /\n",
    "            (1 + 0.5*(gamma-1)*mach_1**2)\n",
    "            )\n",
    "        )\n",
    "\n",
    "def get_rayleigh_stag_pressure_ratio(mach_1, mach_2, gamma=1.4):\n",
    "    '''Return pt2/pt1 for Rayleigh flow'''\n",
    "    return (\n",
    "        ((1 + gamma*mach_1**2) / (1 + gamma*mach_2**2)) * (\n",
    "            (1 + 0.5*(gamma-1)*mach_2**2) /\n",
    "            (1 + 0.5*(gamma-1)*mach_1**2)\n",
    "            )**(gamma / (gamma - 1))\n",
    "        )"
   ]
  },
  {
   "cell_type": "markdown",
   "id": "19c045bd-1fa4-4a9b-8bbe-95e2fc1c05bb",
   "metadata": {},
   "source": [
    "### Energy\n",
    "\n",
    "The property relationships given by Equations {eq}`eq_rayleigh_pressure`, {eq}`eq_rayleigh_temperature`, {eq}`eq_rayleigh_density`, {eq}`eq_rayleigh_stag_temperature`, and {eq}`eq_rayleigh_stag_pressure` all require knowledge of the downstream Mach number. If we do not know those conditions, we need to find them by considering conservation of energy and the heat transfer in the flow.\n",
    "\n",
    "If we apply conservation of energy between two locations in the flow, with some heat transfer $q$, recalling that $ h = c_p T$ and $ h_t = c_p T_t $, we get\n",
    "\n",
    "\\begin{gather*}\n",
    "h_{t1} + q = h_{t2} \\\\\n",
    "c_p T_{t1} + q = c_p T_{t2}\n",
    "\\end{gather*}\n",
    "\n",
    "and thus\n",
    "\n",
    "$$\n",
    "q = c_p \\left( T_{t2} - T_{t1} \\right) \\;.\n",
    "$$ (eq_rayleigh_heat)\n",
    "\n",
    "Given an amount of heat transfer, this relationship can be used to relate the two locations in the flow."
   ]
  },
  {
   "cell_type": "markdown",
   "id": "002c4827-0a79-4e8d-bd2a-0221ec7d2d8e",
   "metadata": {},
   "source": [
    "## Rayleigh sonic reference state\n",
    "\n",
    "The * reference state for a Rayleigh flow is the state that would exist if the flow continued until the Mach number is 1.0, through additional heat transfer.\n",
    "Since this is the limiting point on a Rayleigh line, all states in a given Rayleigh flow share the same * reference state.\n",
    "This can be a useful concept to solve Rayleigh flow problems, because we can easily compute property ratios between the flow at a given location and the reference point.\n",
    "\n",
    "If we take our property relationships and apply them between an arbitrary point in the flow system and the Rayleigh * reference state, we can get\n",
    "\n",
    "$$\n",
    "\\frac{p}{p^*} = f(M, \\gamma) = \\frac{1 + \\gamma}{1 + \\gamma M^2}\n",
    "$$ (eq_rayleigh_reference_pressure)\n",
    "\n",
    "$$\n",
    "\\frac{T}{T^*} = f(M, \\gamma) = \\frac{M^2 (1 + \\gamma)^2}{(1 + \\gamma M^2)^2}\n",
    "$$ (eq_rayleigh_reference_temperature)\n",
    "\n",
    "$$\n",
    "\\frac{\\rho}{\\rho^*} = f(M, \\gamma) = \\frac{1 + \\gamma M^2}{(1 + \\gamma) M^2}\n",
    "$$ (eq_rayleigh_reference_density)\n",
    "\n",
    "$$\n",
    "\\frac{T_t}{T_t^*} = f(M, \\gamma) = \\frac{2(1 + \\gamma) M^2}{(1 + \\gamma M^2)^2} \\left( 1 + \\frac{\\gamma-1}{2} M^2 \\right)\n",
    "$$ (eq_rayleigh_reference_stag_temperature)\n",
    "\n",
    "$$\n",
    "\\frac{p_t}{p_t^*} = f(M, \\gamma) = \\frac{1 + \\gamma}{1 + \\gamma M^2} \\left( \\frac{1 + \\frac{\\gamma-1}{2} M^2}{(\\gamma + 1)/2} \\right)^{\\gamma/(\\gamma-1)}\n",
    "$$ (eq_rayleigh_reference_stag_pressure)"
   ]
  },
  {
   "cell_type": "code",
   "execution_count": 8,
   "id": "95368226-7575-4a35-854a-f2bd75bf86d6",
   "metadata": {},
   "outputs": [],
   "source": [
    "def get_rayleigh_reference_pressure(mach, gamma=1.4):\n",
    "    '''Return p/p* for Rayleigh flow'''\n",
    "    return ((1 + gamma) / (1 + gamma*mach**2))\n",
    "\n",
    "def get_rayleigh_reference_temperature(mach, gamma=1.4):\n",
    "    '''Return T/T* for Rayleigh flow'''\n",
    "    return (\n",
    "        mach**2 * (1 + gamma)**2 / \n",
    "        (1 + gamma*mach**2)**2\n",
    "        )\n",
    "            \n",
    "def get_rayleigh_reference_density(mach, gamma=1.4):\n",
    "    '''Return rho/rho* for Rayleigh flow'''\n",
    "    return ((1 + gamma*mach**2) / ((1 + gamma) * mach**2))\n",
    "            \n",
    "def get_rayleigh_reference_stag_temperature(mach, gamma=1.4):\n",
    "    '''Return Tt/Tt* for Rayleigh flow'''\n",
    "    return (\n",
    "        2*(1 + gamma)*mach**2 * \n",
    "        (1 + 0.5*(gamma - 1)*mach**2) / (1 + gamma*mach**2)**2\n",
    "        )\n",
    "\n",
    "def get_rayleigh_reference_stag_pressure(mach, gamma=1.4):\n",
    "    '''Return pt/pt* for Rayleigh flow'''\n",
    "    return (\n",
    "        (1 + gamma) * (\n",
    "            (1 + 0.5*(gamma-1)*mach**2) / (0.5*(gamma+1))\n",
    "            )**(gamma / (gamma - 1)) /\n",
    "            (1 + gamma*mach**2)\n",
    "        )"
   ]
  },
  {
   "cell_type": "markdown",
   "id": "1a39b0e7-530b-462b-80b5-98c1484d0297",
   "metadata": {},
   "source": [
    "## Example: find heat transfer direction\n",
    "\n",
    "Consider a constant-area duct with supersonic flow of air,\n",
    "where at one location $ M_1 = 1.5 $ and $ p_1 = 10 $ bar, \n",
    "and at a downstream location $ M_2 = 3.0 $.\n",
    "Find the pressure at location 2 and the direction of heat transfer.\n",
    "\n",
    "We can use two different strategies to find the downstream pressure $p_2$.\n",
    "Using the reference state, which is shared between the two locations, we can write\n",
    "\n",
    "$$\n",
    "p_2 = \\frac{p_2}{p^*} \\frac{p^*}{p_1} p_1\n",
    "$$\n",
    "\n",
    "and use the Mach numbers at each location to find the two ratios."
   ]
  },
  {
   "cell_type": "code",
   "execution_count": 9,
   "id": "7c3aea4f-562d-4316-ba97-db96f232cbd7",
   "metadata": {},
   "outputs": [
    {
     "name": "stdout",
     "output_type": "stream",
     "text": [
      "p2 = 3.05 bar\n"
     ]
    }
   ],
   "source": [
    "gamma = 1.4\n",
    "M1 = 1.5\n",
    "M2 = 3.0\n",
    "\n",
    "p1 = Q_(10, 'bar')\n",
    "\n",
    "p1_pstar = get_rayleigh_reference_pressure(M1, gamma)\n",
    "p2_pstar = get_rayleigh_reference_pressure(M2, gamma)\n",
    "p2 = p2_pstar * (1 / p1_pstar) * p1\n",
    "print(f'p2 = {p2: .2f}')"
   ]
  },
  {
   "cell_type": "markdown",
   "id": "ca237e7f-f161-4363-bf82-cb83b3d0a671",
   "metadata": {},
   "source": [
    "Alternatively, we can use the general pressure ratio $p_2 / p_1$ to directly get $p_2$:"
   ]
  },
  {
   "cell_type": "code",
   "execution_count": 10,
   "id": "ae2768c0-97e4-4891-9834-f694d0e9c1f8",
   "metadata": {},
   "outputs": [
    {
     "name": "stdout",
     "output_type": "stream",
     "text": [
      "p2 = 3.05 bar\n"
     ]
    }
   ],
   "source": [
    "p2_p1 = get_rayleigh_pressure_ratio(M1, M2, gamma)\n",
    "p2 = p2_p1 * p1\n",
    "print(f'p2 = {p2: .2f}')"
   ]
  },
  {
   "cell_type": "markdown",
   "id": "c3360931-9847-4efb-94e8-f7ee09fbe8ba",
   "metadata": {},
   "source": [
    "To find the direction of heat transfer, we can calculate the stagnation temperature ratio \n",
    "$ \\frac{T_{t2}}{T_{t1}} $. We can also do this using either approach.\n",
    "\n",
    "Using the reference state,\n",
    "\n",
    "$$\n",
    "\\frac{T_{t2}}{T_{t1}} = \\frac{T_{t2}}{T_t^*} \\frac{T_t^*}{T_{t1}}\n",
    "$$"
   ]
  },
  {
   "cell_type": "code",
   "execution_count": 11,
   "id": "ef75842d-40ec-4027-abf2-abdd5e0c281f",
   "metadata": {},
   "outputs": [
    {
     "name": "stdout",
     "output_type": "stream",
     "text": [
      "T_t2 / T_t1 =  0.719\n"
     ]
    }
   ],
   "source": [
    "Tt1_Ttstar = get_rayleigh_reference_stag_temperature(M1, gamma)\n",
    "Tt2_Ttstar = get_rayleigh_reference_stag_temperature(M2, gamma)\n",
    "\n",
    "Tt2_Tt1 = Tt2_Ttstar / Tt1_Ttstar\n",
    "print(f'T_t2 / T_t1 = {Tt2_Tt1: .3f}')"
   ]
  },
  {
   "cell_type": "markdown",
   "id": "0c1b916a-80eb-460b-9745-0c481988cf2d",
   "metadata": {},
   "source": [
    "Or, we can directly calculate it:"
   ]
  },
  {
   "cell_type": "code",
   "execution_count": 14,
   "id": "68816c1e-f047-4f63-89fa-5c120327d30e",
   "metadata": {},
   "outputs": [
    {
     "name": "stdout",
     "output_type": "stream",
     "text": [
      "T_t2 / T_t1 =  0.719\n"
     ]
    }
   ],
   "source": [
    "Tt2_Tt1 = get_rayleigh_stag_temperature_ratio(M1, M2, gamma)\n",
    "print(f'T_t2 / T_t1 = {Tt2_Tt1: .3f}')"
   ]
  },
  {
   "cell_type": "markdown",
   "id": "29f2e47d-3a51-4138-b686-0640389c8016",
   "metadata": {},
   "source": [
    "Since the stagnation pressure is decreasing, that means that the flow is **cooling**."
   ]
  },
  {
   "cell_type": "markdown",
   "id": "229cbe92-3315-4f0f-ba2c-afd336c6a837",
   "metadata": {},
   "source": [
    "## Example: flow through combustion chamber\n",
    "\n",
    "Consider flow of air into a combustion chamber, where we represent the effects of combustion via heat addition at 120 kJ/kg. The conditions of the flow entering the chamber are 220 K, 70 kPa, and it has a velocity of 122 m/s.\n",
    "What are the exit conditions?\n",
    "\n",
    "First, we need to find the Mach number and stagnation temperature at the inlet.\n",
    "We can also identify the change in stagnation temperature using $ q = c_p \\Delta T_t $, since we know that for air $c_p$ = 1000 J/(kg K)."
   ]
  },
  {
   "cell_type": "code",
   "execution_count": 15,
   "id": "b339d3fe-6936-4281-b272-7701c7a96a87",
   "metadata": {},
   "outputs": [],
   "source": [
    "def get_stagnation_temperature_ratio(mach, gamma=1.4):\n",
    "    '''Calculates T/Tt stagnation relationship.'''\n",
    "    return (1.0 / (1 + 0.5*(gamma - 1) * mach**2))"
   ]
  },
  {
   "cell_type": "code",
   "execution_count": 19,
   "id": "1d18e03e-26fb-44d4-be89-7a388cf09dbc",
   "metadata": {},
   "outputs": [
    {
     "name": "stdout",
     "output_type": "stream",
     "text": [
      "Mach @ 1 = 0.410\n"
     ]
    }
   ],
   "source": [
    "gamma = 1.4\n",
    "R = Q_(287, 'J/(kg*K)')\n",
    "cp = Q_(1000, 'J/(kg*K)')\n",
    "q = Q_(120, 'kJ/kg')\n",
    "\n",
    "T1 = Q_(220, 'K')\n",
    "p1 = Q_(70, 'kPa')\n",
    "V1 = Q_(122, 'm/s')\n",
    "\n",
    "a1 = np.sqrt(gamma * R * T1)\n",
    "M1 = V1 / a1\n",
    "print(f'Mach @ 1 = {M1.to_base_units(): .3f~P}')\n",
    "T1_Tt1 = get_stagnation_temperature_ratio(M1, gamma)\n",
    "Tt1 = T1 / T1_Tt1\n",
    "\n",
    "delta_Tt = q / cp\n",
    "Tt2 = Tt1 + delta_Tt"
   ]
  },
  {
   "cell_type": "markdown",
   "id": "e03d6eef-56fa-4ca2-a69f-3240735b6d4c",
   "metadata": {},
   "source": [
    "To find the downstream conditions, we have two options for solution approaches.\n",
    "\n",
    "### Solution via reference state\n",
    "\n",
    "The two locations share the same Rayleigh sonic reference state, so we can write\n",
    "\n",
    "\\begin{gather*}\n",
    "\\frac{T_{t2}}{T_t^*} = \\frac{T_{t2}}{T_{t1}} \\frac{T_{t1}}{T_t^*} = f(M_2, \\gamma) \\\\\n",
    "p_2 = \\frac{p_2}{p^*} \\frac{p^*}{p_1} \\\\\n",
    "T_2 = \\frac{T_2}{T^*} \\frac{T^*}{T_1}\n",
    "\\end{gather*}\n",
    "\n",
    "To solve for $ M_2 $ given $ T_{t2} / T^* $, we need to write a function to use `root_scalar()`:"
   ]
  },
  {
   "cell_type": "code",
   "execution_count": 23,
   "id": "d0da05f0-b75c-4f69-a79a-e4a48b9c86d0",
   "metadata": {},
   "outputs": [],
   "source": [
    "def solve_rayleigh_reference_stagnation_temperature(mach, Tt_Ttstar, gamma=1.4):\n",
    "    '''Used to find unknown Mach number given Tt/Tt* and gamma'''\n",
    "    return (\n",
    "        Tt_Ttstar - get_rayleigh_reference_stag_temperature(mach, gamma)\n",
    "        )"
   ]
  },
  {
   "cell_type": "code",
   "execution_count": 37,
   "id": "3e842030-1792-4b08-91bc-4970711fba1b",
   "metadata": {},
   "outputs": [
    {
     "name": "stdout",
     "output_type": "stream",
     "text": [
      "Mach @ 2 = 0.616\n",
      "T2 = 322.90 K\n",
      "p2 = 56.49 kPa\n"
     ]
    }
   ],
   "source": [
    "Tt1_Tstar = get_rayleigh_reference_stag_temperature(M1, gamma)\n",
    "T1_Tstar = get_rayleigh_reference_temperature(M1, gamma)\n",
    "p1_pstar = get_rayleigh_reference_pressure(M1, gamma)\n",
    "\n",
    "Tt2_Tstar = (Tt2 / Tt1) * Tt1_Tstar\n",
    "\n",
    "# we know the flow is subsonic\n",
    "root = root_scalar(\n",
    "    solve_rayleigh_reference_stagnation_temperature, x0=0.5, x1=0.6,\n",
    "    args=(Tt2_Tstar, gamma)\n",
    "    )\n",
    "M2 = root.root\n",
    "print(f'Mach @ 2 = {M2.to_base_units(): .3f~P}')\n",
    "\n",
    "T2_Tstar = get_rayleigh_reference_temperature(M2, gamma)\n",
    "p2_pstar = get_rayleigh_reference_pressure(M2, gamma)\n",
    "\n",
    "T2 = T2_Tstar * (1/T1_Tstar) * T1\n",
    "print(f'T2 = {T2.to(\"K\"): .2f~P}')\n",
    "p2 = p2_pstar * (1/p1_pstar) * p1\n",
    "print(f'p2 = {p2: .2f~P}')"
   ]
  },
  {
   "cell_type": "markdown",
   "id": "ab348157-77a2-483d-8750-b80e7b642b8a",
   "metadata": {},
   "source": [
    "### Solution via direct relationships\n",
    "\n",
    "Alternatively, we can solve this problem by directly solving the property relationships between two states in a Rayleigh flow. Since we know $T_{t2}$ and $T_{t1}$, we can solve Equation {eq}`eq_rayleigh_stag_temperature` for $M_2$.\n",
    "Once we know both Mach numbers, we can use the property relationships for pressure and temperature."
   ]
  },
  {
   "cell_type": "code",
   "execution_count": 32,
   "id": "56656755-5280-4c87-93d8-56c5e782ef83",
   "metadata": {},
   "outputs": [],
   "source": [
    "def solve_rayleigh_stagnation_temperature(M2, M1, Tt2_Tt1, gamma):\n",
    "    '''Used to find unknown M2 given M1, stagnation temperature ratio, and gamma.'''\n",
    "    return (\n",
    "        Tt2_Tt1 - get_rayleigh_stag_temperature_ratio(M1, M2, gamma)\n",
    "        )"
   ]
  },
  {
   "cell_type": "code",
   "execution_count": 36,
   "id": "b39fc8bb-92cb-4fa2-aa04-10f496f9be04",
   "metadata": {},
   "outputs": [
    {
     "name": "stdout",
     "output_type": "stream",
     "text": [
      "Mach @ 2 = 0.616\n",
      "T2 = 322.90 K\n",
      "p2 = 56.49 kPa\n"
     ]
    }
   ],
   "source": [
    "Tt2_Tt1 = Tt2 / Tt1\n",
    "root = root_scalar(\n",
    "    solve_rayleigh_stagnation_temperature, \n",
    "    x0=0.5, x1=0.7, args=(M1, Tt2_Tt1, gamma)\n",
    "    )\n",
    "M2 = root.root\n",
    "print(f'Mach @ 2 = {M2.to_base_units(): .3f~P}')\n",
    "\n",
    "p2 = p1 * get_rayleigh_pressure_ratio(M1, M2, gamma)\n",
    "T2 = T1 * get_rayleigh_temperature_ratio(M1, M2, gamma)\n",
    "print(f'T2 = {T2.to(\"K\"): .2f~P}')\n",
    "print(f'p2 = {p2: .2f~P}')"
   ]
  },
  {
   "cell_type": "markdown",
   "id": "f8c3497e-1158-4c18-8a1e-115277f5420e",
   "metadata": {},
   "source": [
    "Both solution approaches lead to the same answers, as expected."
   ]
  }
 ],
 "metadata": {
  "kernelspec": {
   "display_name": "Python 3 (ipykernel)",
   "language": "python",
   "name": "python3"
  },
  "language_info": {
   "codemirror_mode": {
    "name": "ipython",
    "version": 3
   },
   "file_extension": ".py",
   "mimetype": "text/x-python",
   "name": "python",
   "nbconvert_exporter": "python",
   "pygments_lexer": "ipython3",
   "version": "3.8.12"
  }
 },
 "nbformat": 4,
 "nbformat_minor": 5
}
