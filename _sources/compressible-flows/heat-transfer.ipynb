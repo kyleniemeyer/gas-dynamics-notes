{
 "cells": [
  {
   "cell_type": "markdown",
   "id": "2d1f78a7-15ca-48d2-af53-78da392e26cc",
   "metadata": {},
   "source": [
    "# Flows with heat transfer (Rayleigh)"
   ]
  },
  {
   "cell_type": "code",
   "execution_count": 1,
   "id": "a3c33a70-9b9e-4b46-a8d5-91bcca15e9af",
   "metadata": {},
   "outputs": [],
   "source": [
    "%matplotlib inline\n",
    "from matplotlib import pyplot as plt\n",
    "\n",
    "import numpy as np\n",
    "from scipy.optimize import root_scalar\n",
    "\n",
    "# Pint gives us some helpful unit conversion\n",
    "from pint import UnitRegistry\n",
    "ureg = UnitRegistry()\n",
    "Q_ = ureg.Quantity # We will use this to construct quantities (value + unit)"
   ]
  },
  {
   "cell_type": "markdown",
   "id": "5c4e6a38-17c8-44b2-802f-7d1d6f503317",
   "metadata": {},
   "source": [
    "Heat transfer is the third main factor that can affect a compressible flow, after area change and friction.\n",
    "\n",
    "**Rayleigh flow** is the specific case of frictionless flow in a constant-area duct, with heat transfer. Rayleigh flow applies to constant-area heat exchangers and combustion chambers where the entropy changes due to heat transfer are significantly larger than those due to friction:\n",
    "\n",
    "$$\n",
    "d s_e \\gg d s_i \\;,\n",
    "$$\n",
    "\n",
    "so we can neglect frictional effects and say $ ds \\approx ds_e $.\n",
    "\n",
    "## Rayleigh flow theory\n",
    "\n",
    "For a general fluid, we can apply conservation of mass: $ \\dot{m} = \\rho A V $, but since area is constant, we can introduce the **mass velocity**:\n",
    "\n",
    "$$\n",
    "G = \\rho V = \\text{constant} \\;.\n",
    "$$\n",
    "\n",
    "Next, applying conservation of energy:\n",
    "\n",
    "$$\n",
    "\\begin{gather*}\n",
    "h_{t1} + q = h_{t2} + w_s = h_t \\\\\n",
    "\\rightarrow h_{t1} + q = h_{t2} \\;,\n",
    "\\end{gather*}\n",
    "$$\n",
    "\n",
    "and we see that stagnation enthlapy is **not constant**.\n",
    "\n",
    "```{warning}\n",
    "Up to this point, we have been able to rely on the fact that stagnation enthalpy is constant. However, this is not the case in Rayleigh flows due to heat transfer.\n",
    "```"
   ]
  },
  {
   "cell_type": "code",
   "execution_count": null,
   "id": "53f4285d-9a1c-4e88-818a-e6df1f40ab1d",
   "metadata": {},
   "outputs": [],
   "source": []
  }
 ],
 "metadata": {
  "kernelspec": {
   "display_name": "Python 3 (ipykernel)",
   "language": "python",
   "name": "python3"
  },
  "language_info": {
   "codemirror_mode": {
    "name": "ipython",
    "version": 3
   },
   "file_extension": ".py",
   "mimetype": "text/x-python",
   "name": "python",
   "nbconvert_exporter": "python",
   "pygments_lexer": "ipython3",
   "version": "3.8.12"
  }
 },
 "nbformat": 4,
 "nbformat_minor": 5
}
