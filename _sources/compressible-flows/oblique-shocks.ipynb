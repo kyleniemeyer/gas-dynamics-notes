{
 "cells": [
  {
   "cell_type": "markdown",
   "id": "8483c247-bc00-4daa-b5a9-c1eeeee6d20e",
   "metadata": {},
   "source": [
    "# Oblique shock waves"
   ]
  },
  {
   "cell_type": "code",
   "execution_count": null,
   "id": "dee9d554-8636-4baf-944d-f2f0591f4469",
   "metadata": {},
   "outputs": [],
   "source": []
  }
 ],
 "metadata": {
  "kernelspec": {
   "display_name": "Python 3 (ipykernel)",
   "language": "python",
   "name": "python3"
  },
  "language_info": {
   "codemirror_mode": {
    "name": "ipython",
    "version": 3
   },
   "file_extension": ".py",
   "mimetype": "text/x-python",
   "name": "python",
   "nbconvert_exporter": "python",
   "pygments_lexer": "ipython3",
   "version": "3.8.12"
  }
 },
 "nbformat": 4,
 "nbformat_minor": 5
}
