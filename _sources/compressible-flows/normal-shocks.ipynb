{
 "cells": [
  {
   "cell_type": "markdown",
   "id": "eff11f40-1fd0-4f6f-adab-d386f7bce535",
   "metadata": {},
   "source": [
    "# Normal shock waves"
   ]
  },
  {
   "cell_type": "code",
   "execution_count": 2,
   "id": "f6b6834d-a2ec-4a97-944b-c4266fa7a554",
   "metadata": {},
   "outputs": [],
   "source": [
    "%matplotlib inline\n",
    "from matplotlib import pyplot as plt\n",
    "\n",
    "import numpy as np\n",
    "\n",
    "# Pint gives us some helpful unit conversion\n",
    "from pint import UnitRegistry\n",
    "ureg = UnitRegistry()\n",
    "Q_ = ureg.Quantity # We will use this to construct quantities (value + unit)"
   ]
  },
  {
   "cell_type": "code",
   "execution_count": 3,
   "id": "abca5f35-3ad1-4850-a25e-dfe7b6146e61",
   "metadata": {
    "tags": [
     "hide-cell"
    ]
   },
   "outputs": [],
   "source": [
    "# these lines are only for helping improve the display\n",
    "import matplotlib_inline.backend_inline\n",
    "matplotlib_inline.backend_inline.set_matplotlib_formats('pdf', 'png')\n",
    "plt.rcParams['figure.dpi']= 200\n",
    "plt.rcParams['savefig.dpi'] = 200"
   ]
  },
  {
   "cell_type": "markdown",
   "id": "8402cf68-0498-4bdb-a055-51ae53fa42dc",
   "metadata": {},
   "source": [
    "**Shock waves** are finite pressure disturbances that correspond to a large change in properties over a short distance, on the order of a few free molecular paths of the gas.\n",
    "In contrast, sound waves are infinitesimal disturbances.\n",
    "\n",
    "We can analyze the flow through a shock wave with a control volume, applying our existing conservation equations.\n",
    "\n",
    ":::{figure-md} fig-shock\n",
    "<img src=\"../images/shock.*\" alt=\"Control volume around shock\" class=\"bg-primary mb-1\" width=\"400px\">\n",
    "\n",
    "Control volume around a shock.\n",
    ":::\n",
    "\n",
    "{numref}`Figure {number} <fig-shock>` shows a control volume around a shock wave, in a duct with varying area. The thickness of the control volume is very small, on the order of the thickness of the shock itself (so $dx \\sim 10^{-6}$ m).\n",
    "We will make the following assumptions about the flow:\n",
    "- steady, one-dimensional flow\n",
    "- adiabatic flow process: $\\delta q = 0$, and so $ds_e = 0$\n",
    "- no shaft work across the control volume: $\\delta w_s = 0$\n",
    "- no potential change: $dz = 0$\n",
    "- constant area around the shock: $A_1 = A_2$"
   ]
  },
  {
   "cell_type": "code",
   "execution_count": null,
   "id": "79dd0e2a-648c-4bbc-a021-ca2dac8bbfb7",
   "metadata": {},
   "outputs": [],
   "source": []
  }
 ],
 "metadata": {
  "kernelspec": {
   "display_name": "Python 3 (ipykernel)",
   "language": "python",
   "name": "python3"
  },
  "language_info": {
   "codemirror_mode": {
    "name": "ipython",
    "version": 3
   },
   "file_extension": ".py",
   "mimetype": "text/x-python",
   "name": "python",
   "nbconvert_exporter": "python",
   "pygments_lexer": "ipython3",
   "version": "3.8.12"
  }
 },
 "nbformat": 4,
 "nbformat_minor": 5
}
