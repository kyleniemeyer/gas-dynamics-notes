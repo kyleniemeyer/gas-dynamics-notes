{
 "cells": [
  {
   "cell_type": "markdown",
   "id": "eff11f40-1fd0-4f6f-adab-d386f7bce535",
   "metadata": {},
   "source": [
    "# Normal shock waves"
   ]
  },
  {
   "cell_type": "code",
   "execution_count": 2,
   "id": "f6b6834d-a2ec-4a97-944b-c4266fa7a554",
   "metadata": {},
   "outputs": [],
   "source": [
    "%matplotlib inline\n",
    "from matplotlib import pyplot as plt\n",
    "\n",
    "import numpy as np\n",
    "\n",
    "# Pint gives us some helpful unit conversion\n",
    "from pint import UnitRegistry\n",
    "ureg = UnitRegistry()\n",
    "Q_ = ureg.Quantity # We will use this to construct quantities (value + unit)"
   ]
  },
  {
   "cell_type": "code",
   "execution_count": 3,
   "id": "abca5f35-3ad1-4850-a25e-dfe7b6146e61",
   "metadata": {
    "tags": [
     "hide-cell"
    ]
   },
   "outputs": [],
   "source": [
    "# these lines are only for helping improve the display\n",
    "import matplotlib_inline.backend_inline\n",
    "matplotlib_inline.backend_inline.set_matplotlib_formats('pdf', 'png')\n",
    "plt.rcParams['figure.dpi']= 200\n",
    "plt.rcParams['savefig.dpi'] = 200"
   ]
  },
  {
   "cell_type": "markdown",
   "id": "8402cf68-0498-4bdb-a055-51ae53fa42dc",
   "metadata": {},
   "source": [
    "**Shock waves** are finite pressure disturbances that correspond to a large change in properties over a short distance, on the order of a few free molecular paths of the gas.\n",
    "In contrast, sound waves are infinitesimal disturbances.\n",
    "\n",
    "We can analyze the flow through a shock wave with a control volume, applying our existing conservation equations.\n",
    "\n",
    ":::{figure-md} fig-shock\n",
    "<img src=\"../images/shock.*\" alt=\"Control volume around shock\" class=\"bg-primary mb-1\" width=\"400px\">\n",
    "\n",
    "Control volume around a shock.\n",
    ":::\n",
    "\n",
    "{numref}`Figure {number} <fig-shock>` shows a control volume around a shock wave, in a duct with varying area. The thickness of the control volume is very small, on the order of the thickness of the shock itself (so $dx \\sim 10^{-6}$ m).\n",
    "We will make the following assumptions about the flow:\n",
    "- steady, one-dimensional flow\n",
    "- adiabatic flow process: $\\delta q = 0$, and so $ds_e = 0$\n",
    "- no shaft work across the control volume: $\\delta w_s = 0$\n",
    "- no potential change: $dz = 0$\n",
    "- constant area around the shock: $A_1 = A_2$\n",
    "\n",
    "We can apply conservation of mass to this control volume:\n",
    "\n",
    "$$\n",
    "\\rho_1 A_1 V_1 = \\rho_2 A_2 V_2\n",
    "$$\n",
    "\n",
    "$$\n",
    "\\rho_1 V_1 = \\rho_2 V_2 \\;,\n",
    "$$ (eq_mass)\n",
    "\n",
    "conservation of energy:\n",
    "\n",
    "$$\n",
    "\\begin{gather*}\n",
    "h_{t1} + q = h_{t2} + w_s \\\\\n",
    "h_{t1} = h_{t2}\n",
    "\\end{gather*}\n",
    "$$\n",
    "\n",
    "$$\n",
    "h_1 + \\frac{V_1^2}{2} = h_2 + \\frac{V_2^2}{2} \\;,\n",
    "$$ (eq_energy)\n",
    "\n",
    "and momentum:\n",
    "\n",
    "$$\n",
    "\\begin{gather*}\n",
    "\\sum{F_x} = \\dot{m} \\left( V_{\\text{out},x} - V_{\\text{in}, x} \\right) = \\dot{m} \\left( V_{2x} - V_{1x} \\right) \\\\\n",
    "p_1 A_1 - p_2 A_2 = ( p_1 - p_2 ) A = \\dot{m} (V_2 - V_1) = \\rho A V (V_2 - V_1) \\\\\n",
    "p_1 - p_2 = (\\rho V) V_2 - (\\rho V) V_1 \\\\\n",
    "p_1 - p_2 = \\rho_2 V_2^2 - \\rho_1 V_1^2\n",
    "\\end{gather*}\n",
    "$$\n",
    "\n",
    "$$\n",
    "p_1 + \\rho_1 V_1^2 = p_2 + \\rho_2 V_2^2 \\;.\n",
    "$$ (eq_momentum)\n",
    "\n",
    "For an arbitrary fluid, we have three equations: {eq}`eq_mass`, {eq}`eq_energy`, and {eq}`eq_momentum`.\n",
    "In a typical problem, we know the fluid and conditions before the shock, and want to find the conditions after the shock.\n",
    "Thus, our known variables are $\\rho_1$, $p_1$, $h_1$, and $V_1$, while our unknown variables are $\\rho_2$, $p_2$, $h_2$, and $V_2$.\n",
    "We need a fourth equation to close this system of equation: a property relation for the fluid, otherwise known as an equation of state."
   ]
  },
  {
   "cell_type": "markdown",
   "id": "be883cee-fe32-4b7e-94f0-19227514550a",
   "metadata": {},
   "source": [
    "## Perfect gases\n",
    "\n",
    "For ideal/perfect gases, we have the ideal gas equation of state, and can assume constant values for $c_p$, $c_v$, and $\\gamma$.\n",
    "We also have a convenient relationship for the speed of sound:\n",
    "\n",
    "$$\n",
    "\\begin{gather*}\n",
    "p = \\rho R T \\\\\n",
    "V = M a = M \\sqrt{\\gamma R T} \\;.\n",
    "\\end{gather*}\n",
    "$$\n",
    "\n",
    "Incorporating these into Equation {eq}`eq_mass` we can obtain\n",
    "\n",
    "$$\n",
    "\\frac{p_1}{M_1}{\\sqrt{T_1}} = \\frac{p_2 M_2}{\\sqrt{T_2}} \\;.\n",
    "$$ (eq_mass2)\n",
    "\n",
    "With our stagnation relationship for temperature, $ T_t = T \\left( 1 + (\\gamma-1)M^2 / 2 \\right)^2 $, Equation {eq}`eq_energy` becomes\n",
    "\n",
    "$$\n",
    "T_1 \\left( 1 + \\frac{\\gamma-1}{2} M_1^2 \\right) = T_2 \\left( 1 + \\frac{\\gamma-1}{2} M_2^2 \\right) \\;,\n",
    "$$ (eq_energy2)\n",
    "\n",
    "which applies both around a normal shock and also at any point in a general flow with no work or heat transfer.\n",
    "Lastly, incorporating our relationships for perfect gases into Equation {eq}`eq_momentum` we obtain\n",
    "\n",
    "$$\n",
    "p_1 \\left( 1 + \\gamma M_1^2 \\right) = p_2 \\left( 1 + \\gamma M_2^2 \\right) \\;.\n",
    "$$ (eq_momentum2)\n",
    "\n",
    "Now, we have three equations and three unknowns: $M_2$, $p_2$, and $T_2$. 😎\n",
    "\n",
    "However, it is a bit of a pain to solve this complicated system of equations every time. \n",
    "Fortunately, we can combine all three together and eliminate pressure and temperature completely!\n",
    "\n",
    "$$\n",
    "\\left( \\frac{1 + \\gamma M_2^2}{1 + \\gamma M_1^2} \\right) \\frac{M_1}{M_2} = \\left( \\frac{1 + \\frac{\\gamma-1}{2} M_2^2}{1 + \\frac{\\gamma-1}{2} M_1^2} \\right)^{1/2} \\;,\n",
    "$$\n",
    "\n",
    "which can actually be solved to find $M_2 = f(\\gamma, M_1)$."
   ]
  },
  {
   "cell_type": "code",
   "execution_count": null,
   "id": "3706023b-faed-48f4-863d-9e82c2ec0c85",
   "metadata": {},
   "outputs": [],
   "source": []
  }
 ],
 "metadata": {
  "kernelspec": {
   "display_name": "Python 3 (ipykernel)",
   "language": "python",
   "name": "python3"
  },
  "language_info": {
   "codemirror_mode": {
    "name": "ipython",
    "version": 3
   },
   "file_extension": ".py",
   "mimetype": "text/x-python",
   "name": "python",
   "nbconvert_exporter": "python",
   "pygments_lexer": "ipython3",
   "version": "3.9.7"
  }
 },
 "nbformat": 4,
 "nbformat_minor": 5
}
