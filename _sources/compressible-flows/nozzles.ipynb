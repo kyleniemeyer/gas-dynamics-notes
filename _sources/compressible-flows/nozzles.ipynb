{
 "cells": [
  {
   "cell_type": "markdown",
   "id": "d0ad4437-8bdb-4a24-830c-1e4b90a33714",
   "metadata": {
    "tags": []
   },
   "source": [
    "# Nozzles (part I)"
   ]
  },
  {
   "cell_type": "code",
   "execution_count": 10,
   "id": "97f85c4f-1257-4d67-ad69-a0f29f33e47f",
   "metadata": {},
   "outputs": [],
   "source": [
    "# Necessary modules to solve problems\n",
    "import numpy as np\n",
    "from scipy.optimize import root_scalar\n",
    "\n",
    "# Pint gives us some helpful unit conversion\n",
    "from pint import UnitRegistry\n",
    "ureg = UnitRegistry()\n",
    "Q_ = ureg.Quantity # We will use this to construct quantities (value + unit)\n",
    "\n",
    "%matplotlib inline\n",
    "from matplotlib import pyplot as plt"
   ]
  },
  {
   "cell_type": "code",
   "execution_count": 37,
   "id": "578d7038-dd81-4f84-afe9-5a74a5b04ba0",
   "metadata": {
    "tags": [
     "hide-cell"
    ]
   },
   "outputs": [],
   "source": [
    "# these lines are only for helping improve the display\n",
    "import matplotlib_inline.backend_inline\n",
    "matplotlib_inline.backend_inline.set_matplotlib_formats('pdf', 'png')\n",
    "plt.rcParams['figure.dpi']= 150\n",
    "plt.rcParams['savefig.dpi'] = 150"
   ]
  },
  {
   "cell_type": "markdown",
   "id": "f34550f1-869d-4b7e-b298-9ee404597563",
   "metadata": {},
   "source": [
    "Let's now take our understanding of isentropic flows in varying-area ducts and apply them to nozzles.\n",
    "\n",
    "## Converging nozzles\n",
    "\n",
    "Consider a converging-only nozzle, from a large supply of air at 300 K and 10 bar to a receiver with variable pressure $p_{\\text{rec}}$ that we can control.\n",
    "\n",
    "Since the supply tank has such a large cross-sectional area compared to the nozzle, we can assume that the velocity is approximately zero, and so that is the stagnation state:\n",
    "\n",
    "$$\n",
    "\\begin{gather*}\n",
    "T_1 = T_{t1} \\\\\n",
    "p_1 = p_{t1} \\;.\n",
    "\\end{gather*}\n",
    "$$\n",
    "\n",
    "From the energy equation, stagnation enthalpy and temperature are constant:\n",
    "\n",
    "$$\n",
    "\\begin{gather*}\n",
    "h_{t1} + q = h_{t2} + w_s \\\\\n",
    "h_{t1} = h_{t2} \\\\\n",
    "\\rightarrow T_{t1} = T_{t2} \\;.\n",
    "\\end{gather*}\n",
    "$$\n",
    "\n",
    "Clearly, the receiver pressure $p_{\\text{rec}}$ controls the flow."
   ]
  },
  {
   "cell_type": "code",
   "execution_count": 11,
   "id": "9c6b256f-a476-4989-ae9d-6c810eeb9371",
   "metadata": {},
   "outputs": [],
   "source": [
    "gamma = 1.4\n",
    "pt1 = Q_(10.0, 'bar')\n",
    "Tt1 = Q_(300, 'K')\n",
    "gas_constant_air = Q_(287, 'J/(kg*K)')"
   ]
  },
  {
   "cell_type": "code",
   "execution_count": 20,
   "id": "94bec74e-b7d6-4e00-896b-50bfc80b1e27",
   "metadata": {},
   "outputs": [],
   "source": [
    "def stagnation_pressure(mach, gamma):\n",
    "    '''Calculate ratio of static to stagnation pressure'''\n",
    "    return (1 + 0.5*(gamma - 1)*mach**2)**(-gamma/(gamma - 1))\n",
    "\n",
    "def stagnation_temperature(mach, gamma):\n",
    "    '''Calculate ratio of static to stagnation temperature'''\n",
    "    return 1.0 / (1.0 + 0.5*(gamma - 1)*mach**2)\n",
    "\n",
    "def find_mach_pressure(mach, pressure_ratio, gamma):\n",
    "    '''Used to find Mach number for given stagnation pressure and gamme'''\n",
    "    return (pressure_ratio - stagnation_pressure(mach, gamma))\n",
    "\n",
    "def find_mach_temperature(mach, temperature_ratio, gamma):\n",
    "    '''Used to find Mach number for given stagnation temperature and gamme'''\n",
    "    return (temperature_ratio - stagnation_temperature(mach, gamma))"
   ]
  },
  {
   "cell_type": "markdown",
   "id": "f769c813-0cad-4e1c-b21d-8e2e28067fbe",
   "metadata": {},
   "source": [
    "### 1. No flow\n",
    "\n",
    "If $p_{\\text{rec}} = 10$ bar, then there is no flow through the nozzle.\n",
    "\n",
    "### 2. Isentropic expansion\n",
    "\n",
    "If $p_{\\text{rec}} < 10$ bar, then the gas will accelerate through the nozzle as it expands isentropically and the pressure drops until $p = p_{\\text{rec}}$ at the exit.\n",
    "We can use the pressure ratio to find the exit Mach number and temperature.\n",
    "\n",
    "For example, if $p_{\\text{rec}} = 8.02$ bar:\n",
    "\n",
    "$$\n",
    "\\begin{align*}\n",
    "\\frac{p_2}{p_{t2}} &= \\frac{p_2}{p_{t1}} \\frac{p_{t1}}{p_{t2}} = f(\\gamma, M_2) \\\\\n",
    "&= \\frac{8.02}{10} \\left( 1 \\right) = 0.802 \\;,\n",
    "\\end{align*}\n",
    "$$\n",
    "\n",
    "where $\\frac{p_{t1}}{p_{t2}} = 1$ since the flow is isentropic."
   ]
  },
  {
   "cell_type": "code",
   "execution_count": 26,
   "id": "8e8632bc-bf6a-48f4-a772-5c661f4b0c66",
   "metadata": {},
   "outputs": [
    {
     "name": "stdout",
     "output_type": "stream",
     "text": [
      "M2 = 0.570 dimensionless\n",
      "T2 = 281.7 kelvin\n",
      "V2 = 191.9 meter / second\n"
     ]
    }
   ],
   "source": [
    "p2 = Q_(8.02, 'bar')\n",
    "pt2 = pt1\n",
    "Tt2 = Tt1\n",
    "\n",
    "p2_pt2 = (p2 / pt1) * (pt1 / pt2)\n",
    "\n",
    "root = root_scalar(find_mach_pressure, x0=0.1, x1=0.2, args=(p2_pt2, gamma))\n",
    "M2 = root.root\n",
    "print(f'M2 = {M2:.3f}')\n",
    "\n",
    "T2_Tt2 = stagnation_temperature(M2, gamma)\n",
    "T2 = T2_Tt2 * Tt2\n",
    "print(f'T2 = {T2: .1f}')\n",
    "\n",
    "a2 = np.sqrt(gamma * gas_constant_air * T2)\n",
    "V2 = a2 * M2\n",
    "print(f'V2 = {V2.to(\"m/s\"): .1f}')"
   ]
  },
  {
   "cell_type": "markdown",
   "id": "6f6147f8-1517-42e3-8767-04c62058bda3",
   "metadata": {},
   "source": [
    "### 3. Critical pressure\n",
    "\n",
    "Let's examine when we lower the receiver pressure to $p_{\\text{rec}} = 5.283$ bar:\n",
    "\n",
    "$$\n",
    "\\begin{align*}\n",
    "\\frac{p_2}{p_{t2}} &= \\frac{p_2}{p_{t1}} \\frac{p_{t1}}{p_{t2}} = f(\\gamma, M_2) \\\\\n",
    "&= \\frac{5.283}{10} \\left( 1 \\right) = 0.5283 \\;.\n",
    "\\end{align*}\n",
    "$$"
   ]
  },
  {
   "cell_type": "code",
   "execution_count": 17,
   "id": "e713bf19-4274-4ecc-9ad1-e00ac7e479de",
   "metadata": {},
   "outputs": [
    {
     "name": "stdout",
     "output_type": "stream",
     "text": [
      "M2 = 1.000 dimensionless\n"
     ]
    }
   ],
   "source": [
    "p2 = Q_(5.283, 'bar')\n",
    "pt2 = pt1\n",
    "Tt2 = Tt1\n",
    "\n",
    "p2_pt2 = (p2 / pt1) * (pt1 / pt2)\n",
    "\n",
    "root = root_scalar(find_mach_pressure, x0=0.1, x1=0.2, args=(p2_pt2, gamma))\n",
    "M2 = root.root\n",
    "print(f'M2 = {M2:.3f}')"
   ]
  },
  {
   "cell_type": "markdown",
   "id": "1ba7ce34-ab34-4935-8206-1b7b63e53866",
   "metadata": {},
   "source": [
    "For this nozzle, $p_{\\text{rec}} = 5.283$ bar is the **critical pressure**,\n",
    "where the velocity leaving the nozzle is sonic.\n",
    "\n",
    "Now, what if we tried to reduce the receiver pressure below this critical pressure? \n",
    "Mathematically this corresponds to a supersonic velocity, but we know that a converging-only nozzle *cannot* increase the velocity past the sonic point. So, that means that further reducing the receiver pressure has *no effect* on the flow inside the nozzle.\n",
    "\n",
    "Thus, once the critical pressure is reached, the flow is **choked**.\n",
    "\n",
    "We can find the critical pressure ratio:\n",
    "\n",
    "$$\n",
    "\\frac{p_{\\text{crit}}}{p_t} = \\left(\\frac{1}{1+\\frac{\\gamma-1}{2}}\\right)^{\\gamma/(\\gamma-1)} = \\left(\\frac{2}{\\gamma+1}\\right)^{\\gamma/(\\gamma-1)} \\;.\n",
    "$$\n",
    "\n",
    "If the receiver pressure is below the critical pressure ($p_{\\text{rec}} < p_{\\text{crit}}$), then the flow is choked."
   ]
  },
  {
   "cell_type": "markdown",
   "id": "abd51de5-d3fe-4c42-b6b1-a36b94d4e17f",
   "metadata": {},
   "source": [
    "### Example: mass flow in converging nozzle\n",
    "\n",
    "Air flows from a large reservoir through a converging nozzle with an exit area of 50 cm$^2$.\n",
    "The reservoir is large enough that the supply temperature and pressure remain approximately constant at 500 kPa and 400 K as the flow exhausts through the nozzle. Assuming isentropic flow of air as an ideal gas with a constant ratio of specific heats ($\\gamma = 1.4$).\n",
    "Plot the mass flow rate for a range of back pressures from 0 to 500 kPa."
   ]
  },
  {
   "cell_type": "markdown",
   "id": "bff46a2e-1551-4e2f-898c-e39d817a8a9d",
   "metadata": {},
   "source": [
    "First, find the critical pressure for this nozzle, and the temperature associated with that pressure:"
   ]
  },
  {
   "cell_type": "code",
   "execution_count": 33,
   "id": "4db75528-26ab-4a53-8c1e-4e33477042ab",
   "metadata": {},
   "outputs": [
    {
     "name": "stdout",
     "output_type": "stream",
     "text": [
      "Critical pressure = 264.14 kilopascal\n",
      "Exit temperature = 333.33 kelvin\n"
     ]
    }
   ],
   "source": [
    "gamma = 1.4\n",
    "gas_constant_air = Q_(287, 'J/(kg*K)')\n",
    "\n",
    "exit_area = Q_(50, 'cm^2')\n",
    "pt = Q_(500, 'kPa')\n",
    "Tt = Q_(400, 'K')\n",
    "back_pressures = Q_(np.linspace(0, 500, 15, endpoint=True), 'kPa')\n",
    "\n",
    "p_crit = pt * (2 / (gamma+1))**(gamma/(gamma-1))\n",
    "print(f'Critical pressure = {p_crit: .2f}')\n",
    "\n",
    "T_crit = Tt * stagnation_temperature(1.0, gamma)\n",
    "print(f'Exit temperature = {T_crit: .2f}')"
   ]
  },
  {
   "cell_type": "markdown",
   "id": "d27f1b7e-6eb3-4e77-a009-9f72eeb00643",
   "metadata": {},
   "source": [
    "We can find the mass flow rate with\n",
    "\n",
    "$$\n",
    "\\begin{align*}\n",
    "\\dot{m} &= \\rho_e A_e V_e \\\\\n",
    "&= \\left(\\frac{p_e}{R T_e} \\right) A_e \\left( M_e \\sqrt{\\gamma R T_e} \\right) \\;.\n",
    "\\end{align*}\n",
    "$$\n",
    "\n",
    "For back pressures that are higher than the critical pressure, we can use the stagnation pressure ratio to find the corresponding exit Mach number, and then the other properties.\n",
    "\n",
    "For back pressures that are lower than the critical pressure, the exit conditions are locked at the critical conditions and the Mach number is one."
   ]
  },
  {
   "cell_type": "code",
   "execution_count": 38,
   "id": "78ec3189-9424-4d12-a8f3-eea687429ade",
   "metadata": {},
   "outputs": [
    {
     "data": {
      "application/pdf": "[encoded data removed]",
      "image/png": "[encoded data removed]",
      "text/plain": [
       "<Figure size 900x600 with 1 Axes>"
      ]
     },
     "metadata": {
      "needs_background": "light"
     },
     "output_type": "display_data"
    },
    {
     "name": "stdout",
     "output_type": "stream",
     "text": [
      "Max flow rate: 5.052 kilogram / second\n"
     ]
    }
   ],
   "source": [
    "mass_flow_rates = Q_(np.zeros_like(back_pressures), 'kg/s')\n",
    "for idx, p in enumerate(back_pressures):\n",
    "    if p > p_crit:\n",
    "        root = root_scalar(find_mach_pressure, x0=0.1, x1=0.2, args=(p/pt, gamma))\n",
    "        Me = root.root\n",
    "        \n",
    "        pe = pt * stagnation_pressure(Me, gamma)\n",
    "        Te = Tt * stagnation_temperature(Me, gamma)\n",
    "        mass_flow_rates[idx] = (\n",
    "            pe * exit_area * Me * np.sqrt(gamma * gas_constant_air * Te) / \n",
    "            (gas_constant_air * Te)\n",
    "            ).to('kg/s')\n",
    "    else:\n",
    "        mass_flow_rates[idx] = (\n",
    "            p_crit * exit_area * np.sqrt(gamma * gas_constant_air * T_crit) / \n",
    "            (gas_constant_air * T_crit)\n",
    "            ).to('kg/s')\n",
    "\n",
    "plt.plot(back_pressures.to('kPa').magnitude, mass_flow_rates.magnitude, 'o-')\n",
    "plt.xlabel('Back pressure (kPa)')\n",
    "plt.ylabel('Mass flow rate (kg/s)')\n",
    "plt.grid()\n",
    "plt.show()\n",
    "\n",
    "print(f'Max flow rate: {np.max(mass_flow_rates): .3f}')"
   ]
  },
  {
   "cell_type": "markdown",
   "id": "4cbda4a0-2a67-456d-9afb-9aaeb7744c08",
   "metadata": {},
   "source": [
    "## Converging-diverging nozzles"
   ]
  },
  {
   "cell_type": "code",
   "execution_count": null,
   "id": "c8b00a29-c4d5-49fc-b1a5-ecd61d8b4d14",
   "metadata": {},
   "outputs": [],
   "source": []
  }
 ],
 "metadata": {
  "kernelspec": {
   "display_name": "Python 3 (ipykernel)",
   "language": "python",
   "name": "python3"
  },
  "language_info": {
   "codemirror_mode": {
    "name": "ipython",
    "version": 3
   },
   "file_extension": ".py",
   "mimetype": "text/x-python",
   "name": "python",
   "nbconvert_exporter": "python",
   "pygments_lexer": "ipython3",
   "version": "3.8.12"
  }
 },
 "nbformat": 4,
 "nbformat_minor": 5
}
