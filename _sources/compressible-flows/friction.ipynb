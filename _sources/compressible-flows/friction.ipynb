{
 "cells": [
  {
   "cell_type": "markdown",
   "id": "565c4851-db16-48d3-abbb-151f209a8785",
   "metadata": {},
   "source": [
    "# Flows with friction (Fanno)"
   ]
  },
  {
   "cell_type": "code",
   "execution_count": null,
   "id": "54cde824-bd79-4732-a72a-294353f2bd0b",
   "metadata": {},
   "outputs": [],
   "source": []
  }
 ],
 "metadata": {
  "kernelspec": {
   "display_name": "Python 3 (ipykernel)",
   "language": "python",
   "name": "python3"
  },
  "language_info": {
   "codemirror_mode": {
    "name": "ipython",
    "version": 3
   },
   "file_extension": ".py",
   "mimetype": "text/x-python",
   "name": "python",
   "nbconvert_exporter": "python",
   "pygments_lexer": "ipython3",
   "version": "3.8.12"
  }
 },
 "nbformat": 4,
 "nbformat_minor": 5
}
