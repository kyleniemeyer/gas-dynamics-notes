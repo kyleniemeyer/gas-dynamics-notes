{
 "cells": [
  {
   "cell_type": "markdown",
   "id": "565c4851-db16-48d3-abbb-151f209a8785",
   "metadata": {},
   "source": [
    "# Flows with friction (Fanno flows)"
   ]
  },
  {
   "cell_type": "code",
   "execution_count": 10,
   "id": "54cde824-bd79-4732-a72a-294353f2bd0b",
   "metadata": {
    "tags": [
     "hide-cell"
    ]
   },
   "outputs": [],
   "source": [
    "%matplotlib inline\n",
    "from matplotlib import pyplot as plt\n",
    "\n",
    "import numpy as np\n",
    "from scipy.optimize import root_scalar\n",
    "\n",
    "# Pint gives us some helpful unit conversion\n",
    "from pint import UnitRegistry\n",
    "ureg = UnitRegistry()\n",
    "Q_ = ureg.Quantity # We will use this to construct quantities (value + unit)"
   ]
  },
  {
   "cell_type": "code",
   "execution_count": 11,
   "id": "5bd54ffd-6811-4438-9b95-154956f731f8",
   "metadata": {
    "tags": [
     "hide-cell"
    ]
   },
   "outputs": [],
   "source": [
    "# these lines are only for helping improve the display\n",
    "import matplotlib_inline.backend_inline\n",
    "matplotlib_inline.backend_inline.set_matplotlib_formats('pdf', 'png')\n",
    "plt.rcParams['figure.dpi']= 200\n",
    "plt.rcParams['savefig.dpi'] = 200"
   ]
  },
  {
   "cell_type": "markdown",
   "id": "e2a80c1b-424c-4ced-85e8-c510fcca8451",
   "metadata": {},
   "source": [
    "After area change, friction is another important factor that controls compressible flow.\n",
    "(Heat transfer is the third main factor.) \n",
    "Of course, in reality more than one of these factors can play a role at the same time—we'll examine those cases later.\n",
    "\n",
    "**Fanno flow** is the specific case of adiabatic flow in a constant-area duct, with effects due to friction.\n",
    "\n",
    "## Fanno flow theory\n",
    "\n",
    "For a general fluid, we can apply conservation of mass: $ \\dot{m} = \\rho A V $, but since area is constant, we can introduce the **mass velocity**:\n",
    "\n",
    "$$\n",
    "G = \\rho V = \\text{constant} \\;.\n",
    "$$\n",
    "\n",
    "Next, applying conservation of energy:\n",
    "\n",
    "$$\n",
    "\\begin{gather*}\n",
    "h_{t1} + q = h_{t2} + w_s = h_t \\\\\n",
    "\\rightarrow h_t = h + \\frac{V^2}{2} \\\\\n",
    "V^2 = \\left( \\frac{G}{\\rho} \\right)^2 \\rightarrow h_t = h + \\frac{G^2}{2 \\rho^2} = \\text{constant} \\;.\n",
    "\\end{gather*}\n",
    "$$\n",
    "\n",
    "So, we have a relationship between $h$ and $\\rho$ (or $v$) in a Fanno flow."
   ]
  },
  {
   "cell_type": "markdown",
   "id": "cb5f4cc9-52c4-4b0e-83d0-19bbfff8d949",
   "metadata": {},
   "source": [
    "## Fanno flow analysis\n",
    "\n",
    "\n",
    "$$\n",
    "\\frac{T_2}{T_1} = \\frac{2 + (\\gamma-1) M_1^2}{2 + (\\gamma-1) M_2^2}\n",
    "$$ (eq_fanno_temperature)\n",
    "\n",
    "$$\n",
    "\\frac{p_2}{p_1} = \\frac{M_1}{M_2} \\left( \\frac{2 + (\\gamma-1) M_1^2}{2 + (\\gamma-1) M_2^2} \\right)^{1/2}\n",
    "$$ (eq_fanno_pressure)\n",
    "\n",
    "$$\n",
    "\\frac{\\rho_2}{\\rho_1} = \\frac{M_1}{M_2} \\left[ \\frac{2 + (\\gamma-1) M_2^2}{2 + (\\gamma-1) M_1^2} \\right]^{1/2}\n",
    "$$ (eq_fanno_density)\n",
    "\n",
    "$$\n",
    "\\frac{p_{t2}}{p_{t1}} = \\frac{M_1}{M_2} \\left( \\frac{2 + (\\gamma-1) M_2^2}{2 + (\\gamma-1) M_1^2} \\right)^{\\frac{\\gamma+1}{2(\\gamma-1)}}\n",
    "$$ (eq_fanno_stag_pressure)\n",
    "\n",
    "$$\n",
    "\\frac{f \\Delta x}{D_e} = \\frac{\\gamma+1}{2\\gamma} \\log \\left[ \\frac{2 + (\\gamma-1) M_2^2}{2 + (\\gamma-1) M_1^2} \\right] - \\frac{1}{\\gamma} \\left( \\frac{1}{M_2^2} - \\frac{1}{M_1^2} \\right) - \\frac{\\gamma+1}{2 \\gamma} \\log \\frac{M_2^2}{M_1^2}\n",
    "$$ (eq_fanno_length)"
   ]
  },
  {
   "cell_type": "code",
   "execution_count": 29,
   "id": "efd3b9f3-7979-4bce-8211-6449d23da37f",
   "metadata": {},
   "outputs": [],
   "source": [
    "def get_fanno_distance(mach_1, mach_2, gamma=1.4):\n",
    "    '''Get Fanno friction distance (f Δx/D) given two Mach numbers'''\n",
    "    return (\n",
    "        ((gamma + 1)/(2 * gamma)) *\n",
    "        np.log((2 + (gamma - 1)*mach_2**2) / (2 + (gamma - 1)*mach_1**2)) -\n",
    "        (1/gamma)*(1/mach_2**2 - 1/mach_1**2) -\n",
    "        (gamma + 1) * np.log(mach_2**2 / mach_1**2) / (2*gamma)\n",
    "        )\n",
    "\n",
    "def solve_fanno_mach(mach_2, mach_1, friction_factor, delta_x, diameter, gamma=1.4):\n",
    "    '''Use to solve for downstream Mach in Fanno flow'''\n",
    "    return (\n",
    "        friction_factor*delta_x/diameter - get_fanno_distance(mach_1, mach_2, gamma)\n",
    "        )\n",
    "\n",
    "def get_fanno_temperature_ratio(mach_1, mach_2, gamma=1.4):\n",
    "    '''Return T2/T1 for Fanno flow'''\n",
    "    return (\n",
    "        (2 + (gamma-1)*mach_1**2) / (2 + (gamma-1)*mach_2**2)\n",
    "        )\n",
    "\n",
    "def get_fanno_pressure_ratio(mach_1, mach_2, gamma=1.4):\n",
    "    '''Return p2/p1 for Fanno flow'''\n",
    "    return (\n",
    "        (mach_1 / mach_2) * \n",
    "        np.sqrt((2 + (gamma-1)*mach_1**2)/(2 + (gamma-1)*mach_2**2))\n",
    "        )\n",
    "\n",
    "def get_fanno_stag_pressure_ratio(mach_1, mach_2, gamma=1.4):\n",
    "    '''Return pt2/pt1 for Fanno flow'''\n",
    "    return (\n",
    "        (mach_1 / mach_2) * (\n",
    "            (2 + (gamma-1)*mach_2**2) / \n",
    "            (2 + (gamma-1)*mach_1**2)\n",
    "            )**((gamma + 1) / (2*(gamma - 1)))\n",
    "        )"
   ]
  },
  {
   "cell_type": "markdown",
   "id": "7c3ea92d-dc51-4d5e-8bb6-db1f4e11941a",
   "metadata": {},
   "source": [
    "## Fanno sonic reference state\n",
    "\n",
    "The * reference state for a Fanno flow is the state that would exist if the flow continued until the Mach number is 1.0, through additional length of duct (with friction).\n",
    "Since this is the limiting point on a Fanno line, all states in a given Fanno flow share the same * reference state.\n",
    "\n",
    "$$\n",
    "\\frac{f L_{\\max}}{D_e} = \\left( \\frac{\\gamma+1}{2\\gamma} \\right) \\log \\left( \\frac{\\gamma+1}{2 + (\\gamma-1) M^2} \\right) - \\frac{1}{\\gamma} \\left( 1 - \\frac{1}{M^2} \\right) - \\left( \\frac{\\gamma+1}{2\\gamma} \\right) \\log \\left(\\frac{1}{M^2}\\right)\n",
    "$$\n",
    "\n",
    "where $L_{\\max}$ = $x^* - x$ is the maximum length of duct allowable on the Fanno line from the given state before reaching the limiting point. \n",
    "\n",
    "$$\n",
    "\\frac{T}{T^*} = \\frac{\\gamma+1}{2 + (\\gamma-1) M^2}\n",
    "$$\n",
    "\n",
    "$$\n",
    "\\frac{p}{p^*} = \\frac{1}{M} \\left[ \\frac{\\gamma+1}{2 + (\\gamma-1)M^2}\\right]^{1/2}\n",
    "$$\n",
    "\n",
    "$$\n",
    "\\frac{\\rho}{\\rho^*} = \\frac{1}{M} \\left[ \\frac{2 + (\\gamma-1) M^2}{\\gamma+1}\\right]^{1/2}\n",
    "$$\n",
    "\n",
    "$$\n",
    "\\frac{p_t}{p_t^*} = \\frac{1}{M} \\left[ \\frac{2 + (\\gamma-1) M^2}{\\gamma+1}\\right]^{\\frac{\\gamma+1}{2(\\gamma-1)}}\n",
    "$$"
   ]
  },
  {
   "cell_type": "code",
   "execution_count": 30,
   "id": "a6149008-d969-49c0-a05b-877be9e13e54",
   "metadata": {},
   "outputs": [],
   "source": [
    "def get_fanno_max_length(mach, gamma=1.4):\n",
    "    '''Get maximum Fanno friction length (f L_max / D) given Mach number'''\n",
    "    return (\n",
    "        ((gamma + 1)/(2 * gamma)) *\n",
    "        np.log((gamma + 1) / (2 + (gamma - 1)*mach**2)) -\n",
    "        (1/gamma)*(1 - 1/mach**2) -\n",
    "        (gamma + 1) * np.log(1 / mach**2) / (2*gamma)\n",
    "        )\n",
    "\n",
    "def solve_fanno_reference_mach(mach, friction_factor, L_max, diameter, gamma=1.4):\n",
    "    '''Use to solve for downstream Mach in Fanno flow'''\n",
    "    return (\n",
    "        friction_factor*L_max/diameter - get_fanno_max_length(mach, gamma)\n",
    "        )\n",
    "\n",
    "def get_fanno_reference_pressure(mach, gamma=1.4):\n",
    "    '''Return p/p* for Fanno flow'''\n",
    "    return (\n",
    "        (1 / mach) * \n",
    "        np.sqrt((gamma + 1) / (2 + (gamma-1)*mach**2))\n",
    "        )"
   ]
  },
  {
   "cell_type": "markdown",
   "id": "4f23deb6-8ec5-42bb-a128-f8d38039a93a",
   "metadata": {},
   "source": [
    "## Example: constant-area duct following nozzle\n",
    "\n",
    "Consider a system with an isentropic converging-diverging nozzle that flows into a 2.4 m section of constant-diameter duct (with diameter 0.14 m), exhausting into 1 bar pressure. The area ratio of the nozzle is 5.42, and the friction factor in the constant-diameter section if 0.02.\n",
    "\n",
    "Find the minimum stagnation pressure in the supply for the nozzle if the flow is all supersonic in the system, starting at the throat.\n",
    "\n",
    "First, we need to determine the supersonic flow operation of the nozzle (the third critical). For an area ratio $A_3 / A_2$, we can solve for the outlet Mach number $M_3$ and pressure ratio $p_3 / p_{t3}$:"
   ]
  },
  {
   "cell_type": "code",
   "execution_count": 31,
   "id": "ecaebf17-3204-4dbf-b38f-88db0b56813e",
   "metadata": {},
   "outputs": [],
   "source": [
    "# isentropic relationships\n",
    "def get_reference_area(mach, gamma):\n",
    "    '''Calculate reference area ratio'''\n",
    "    return ((1.0/mach) * ((1 + 0.5*(gamma-1)*mach**2) / \n",
    "            ((gamma + 1)/2))**((gamma+1) / (2*(gamma-1)))\n",
    "            )\n",
    "\n",
    "def solve_mach_area(mach, area_ratio, gamma):\n",
    "    '''Used to find Mach number for given reference area ratio and gamma'''\n",
    "    return (area_ratio - get_reference_area(mach, gamma))\n",
    "\n",
    "def get_stagnation_pressure_ratio(mach, gamma):\n",
    "    '''Calculate p/pt given Mach number'''\n",
    "    return (1 + 0.5*(gamma - 1)*mach**2)**(-gamma/(gamma - 1))"
   ]
  },
  {
   "cell_type": "code",
   "execution_count": 32,
   "id": "8b5256fc-20a8-46a5-98a6-1c58e5bbabca",
   "metadata": {},
   "outputs": [
    {
     "name": "stdout",
     "output_type": "stream",
     "text": [
      "Nozzle outlet M3 =  3.260\n",
      "p3/pt3 =  0.0185\n"
     ]
    }
   ],
   "source": [
    "gamma = 1.4\n",
    "area_ratio = 5.42\n",
    "pt1_pt3 = 1.0 # isentropic nozzle\n",
    "\n",
    "diameter = Q_(0.14, 'm')\n",
    "f = 0.02\n",
    "p_rec = Q_(1, 'bar')\n",
    "length = Q_(2.4, 'm')\n",
    "\n",
    "root = root_scalar(solve_mach_area, x0=2.0, x1=3.0, args=(area_ratio, gamma))\n",
    "M3 = root.root\n",
    "print(f'Nozzle outlet M3 = {M3: .3f}')\n",
    "\n",
    "p3_pt3 = get_stagnation_pressure_ratio(M3, gamma)\n",
    "print(f'p3/pt3 = {p3_pt3: .4f}')"
   ]
  },
  {
   "cell_type": "markdown",
   "id": "989833ba-9b6b-4d27-a3f1-789b1ac1a873",
   "metadata": {},
   "source": [
    "Next, for the length of duct with friction, the inlet and outlet share the same Fanno sonic reference state, so\n",
    "\n",
    "$$\n",
    "L_{3, \\max} = \\Delta x + L_{4, \\max}\n",
    "$$\n",
    "\n",
    "and we can then find $M_4$ using $\\frac{f L_{4, \\max}}{D}$:"
   ]
  },
  {
   "cell_type": "code",
   "execution_count": 33,
   "id": "2ea3762f-b084-4cfa-b9a6-5ffbf700cfa1",
   "metadata": {},
   "outputs": [
    {
     "name": "stdout",
     "output_type": "stream",
     "text": [
      "M4 = 1.722 dimensionless\n",
      "Supply stagnation pressure: 20.35 bar\n"
     ]
    }
   ],
   "source": [
    "fL3_max_D = get_fanno_max_length(M3, gamma)\n",
    "fL4_max_D = fL3_max_D - (f * length / diameter)\n",
    "L4_max = fL4_max_D * diameter / f\n",
    "\n",
    "root = root_scalar(\n",
    "    solve_fanno_reference_mach, x0=2, x1=3, \n",
    "    args=(f, L4_max, diameter, gamma)\n",
    "    )\n",
    "M4 = root.root\n",
    "print(f'M4 = {M4: .3f}')\n",
    "\n",
    "p3_p3star = get_fanno_reference_pressure(M3, gamma)\n",
    "p4_p4star = get_fanno_reference_pressure(M4, gamma)\n",
    "p3star_p4star = 1.0\n",
    "\n",
    "# p4 = p_rec\n",
    "pt1 = pt1_pt3 * (1/p3_pt3) * p3_p3star * p3star_p4star * (1/p4_p4star) * p_rec\n",
    "print(f'Supply stagnation pressure: {pt1.to(\"bar\"): .2f}')"
   ]
  }
 ],
 "metadata": {
  "kernelspec": {
   "display_name": "Python 3 (ipykernel)",
   "language": "python",
   "name": "python3"
  },
  "language_info": {
   "codemirror_mode": {
    "name": "ipython",
    "version": 3
   },
   "file_extension": ".py",
   "mimetype": "text/x-python",
   "name": "python",
   "nbconvert_exporter": "python",
   "pygments_lexer": "ipython3",
   "version": "3.8.12"
  }
 },
 "nbformat": 4,
 "nbformat_minor": 5
}
