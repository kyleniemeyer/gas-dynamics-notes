{
 "cells": [
  {
   "cell_type": "markdown",
   "id": "170c375a-f7b1-4fe9-baa4-27ca86d5a79c",
   "metadata": {},
   "source": [
    "# Prandtl–Meyer flows"
   ]
  },
  {
   "cell_type": "code",
   "execution_count": 3,
   "id": "ec95cb7f-a055-4e50-a35f-dac102a41bbd",
   "metadata": {},
   "outputs": [],
   "source": [
    "%matplotlib inline\n",
    "from matplotlib import pyplot as plt\n",
    "\n",
    "import numpy as np\n",
    "\n",
    "# Pint gives us some helpful unit conversion\n",
    "from pint import UnitRegistry\n",
    "ureg = UnitRegistry()\n",
    "Q_ = ureg.Quantity # We will use this to construct quantities (value + unit)"
   ]
  },
  {
   "cell_type": "code",
   "execution_count": 4,
   "id": "138bbcc6-9dda-4559-93a0-cb15507fe32c",
   "metadata": {
    "tags": [
     "hide-cell"
    ]
   },
   "outputs": [],
   "source": [
    "# these lines are only for helping improve the display\n",
    "import matplotlib_inline.backend_inline\n",
    "matplotlib_inline.backend_inline.set_matplotlib_formats('pdf', 'png')\n",
    "plt.rcParams['figure.dpi']= 200\n",
    "plt.rcParams['savefig.dpi'] = 200"
   ]
  },
  {
   "cell_type": "markdown",
   "id": "b0465d86-b524-47f7-a0e0-24da73559099",
   "metadata": {},
   "source": [
    "**Prandtl–Meyer flows** are isentropic turning flows that can involve compression or expansion. To describe them, we examine shocks at their weak limit.\n",
    "\n",
    "## Analysis of weak shocks\n",
    "\n",
    "We can express the pressure change through a normal shock using Equation {eq}`eq_normal_pressure`:\n",
    "\n",
    "$$\n",
    "\\begin{gather*}\n",
    "\\frac{p_2}{p_1} = \\frac{2\\gamma}{\\gamma+1} M_1^2 - \\frac{\\gamma-1}{\\gamma+1} \\\\\n",
    "\\frac{p_2}{p_1} - 1 = \\frac{\\Delta p}{p_1} = \\frac{2\\gamma}{\\gamma+1} (M_1^2 - 1) \\;,\n",
    "\\end{gather*}\n",
    "$$\n",
    "\n",
    "so therefore through a normal shock $ \\Delta p \\propto (M_1^2 - 1) $."
   ]
  },
  {
   "cell_type": "code",
   "execution_count": null,
   "id": "5bf3e9c2-5e3e-404f-8789-2663e20dc11a",
   "metadata": {},
   "outputs": [],
   "source": []
  }
 ],
 "metadata": {
  "kernelspec": {
   "display_name": "Python 3 (ipykernel)",
   "language": "python",
   "name": "python3"
  },
  "language_info": {
   "codemirror_mode": {
    "name": "ipython",
    "version": 3
   },
   "file_extension": ".py",
   "mimetype": "text/x-python",
   "name": "python",
   "nbconvert_exporter": "python",
   "pygments_lexer": "ipython3",
   "version": "3.8.12"
  }
 },
 "nbformat": 4,
 "nbformat_minor": 5
}
