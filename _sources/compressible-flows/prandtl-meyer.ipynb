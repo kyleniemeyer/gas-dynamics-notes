{
 "cells": [
  {
   "cell_type": "markdown",
   "id": "170c375a-f7b1-4fe9-baa4-27ca86d5a79c",
   "metadata": {},
   "source": [
    "# Prandtl–Meyer flows"
   ]
  },
  {
   "cell_type": "code",
   "execution_count": 1,
   "id": "ec95cb7f-a055-4e50-a35f-dac102a41bbd",
   "metadata": {
    "tags": [
     "hide-cell"
    ]
   },
   "outputs": [],
   "source": [
    "%matplotlib inline\n",
    "from matplotlib import pyplot as plt\n",
    "\n",
    "import numpy as np\n",
    "from scipy.optimize import root_scalar\n",
    "\n",
    "# Pint gives us some helpful unit conversion\n",
    "from pint import UnitRegistry\n",
    "ureg = UnitRegistry()\n",
    "Q_ = ureg.Quantity # We will use this to construct quantities (value + unit)"
   ]
  },
  {
   "cell_type": "code",
   "execution_count": 2,
   "id": "138bbcc6-9dda-4559-93a0-cb15507fe32c",
   "metadata": {
    "tags": [
     "hide-cell"
    ]
   },
   "outputs": [],
   "source": [
    "# these lines are only for helping improve the display\n",
    "import matplotlib_inline.backend_inline\n",
    "matplotlib_inline.backend_inline.set_matplotlib_formats('pdf', 'png')\n",
    "plt.rcParams['figure.dpi']= 300\n",
    "plt.rcParams['savefig.dpi'] = 300\n",
    "plt.rcParams['mathtext.fontset'] = 'cm'"
   ]
  },
  {
   "cell_type": "markdown",
   "id": "b0465d86-b524-47f7-a0e0-24da73559099",
   "metadata": {},
   "source": [
    "**Prandtl–Meyer flows** are isentropic turning flows that can involve compression or expansion. To describe them, we examine shocks at their weak limit.\n",
    "\n",
    "## Analysis of weak shocks\n",
    "\n",
    "We can express the pressure change through a normal shock using Equation {eq}`eq_normal_pressure`:\n",
    "\n",
    "\\begin{gather*}\n",
    "\\frac{p_2}{p_1} = \\frac{2\\gamma}{\\gamma+1} M_1^2 - \\frac{\\gamma-1}{\\gamma+1} \\\\\n",
    "\\frac{p_2}{p_1} - 1 = \\frac{\\Delta p}{p_1} = \\frac{2\\gamma}{\\gamma+1} (M_1^2 - 1) \\;,\n",
    "\\end{gather*}\n",
    "\n",
    "so therefore through a normal shock $ \\Delta p \\propto (M_1^2 - 1) $.\n",
    "\n",
    "We can also examine the entropy change through a normal shock by using one of our thermodynamic state relationships:\n",
    "\n",
    "\\begin{gather*}\n",
    "\\Delta s_{1-2} = c_p \\log \\frac{v_2}{v_1} + c_v \\log \\frac{p_2}{p_1} \\\\\n",
    "\\frac{s_2 - s_1}{R} = \\frac{\\gamma}{\\gamma-1} \\log \\frac{\\rho_1}{\\rho_2} + \\frac{1}{\\gamma-1} \\log \\frac{p_2}{p_1} \\;,\n",
    "\\end{gather*}\n",
    "\n",
    "which, after considerable effort, we can express as\n",
    "\n",
    "$$\n",
    "\\frac{s_2 - s_1}{R} = \\frac{2\\gamma \\left(M_1^2 - 1\\right)^3}{3 (\\gamma+1)^2} + \\mathcal{O} \\left( M_1^2 - 1 \\right)^4 \\;.\n",
    "$$\n",
    "\n",
    "For weak shocks, where $M_1 \\rightarrow 1$, we can neglect the higher-order terms, and so $ \\Delta s \\propto (M_1^2 - 1)^3 $.\n",
    "\n",
    "For turning flows, the above analysis applies to the normal component of the Mach number: $M_{1n} = M_1 \\sin \\theta$:\n",
    "\n",
    "$$\n",
    "\\frac{\\Delta p}{p_1} = \\frac{2\\gamma}{\\gamma+1} (M_1^2 \\sin^2 \\theta - 1)\n",
    "$$\n",
    "\n",
    "and\n",
    "\n",
    "$$\n",
    "\\frac{\\Delta s}{R} = \\frac{2\\gamma \\left(M_1^2 \\sin^2 \\theta - 1\\right)^3}{3 (\\gamma+1)^2} + \\mathcal{O} \\left( M_1^2 \\sin^2 \\theta - 1 \\right)^4 \\;.\n",
    "$$\n",
    "\n",
    "```{margin} Small-angle approximations\n",
    "\n",
    "We will use the small-angle approximations again. Recall that for small angles $\\theta$ (in radians), we can approximate a right triangle with angle $\\theta$, base adjacent leg $A$, opposite leg $O$, and hypotenuse $H$ as the sector of a circle with radius $A$ and arc length $s$. \n",
    "Then, $H \\approx A$, $O \\approx s$, and $s = A \\theta$.\n",
    "\n",
    "Therefore, we can approximate:\n",
    "\n",
    "\\begin{gather*}\n",
    "\\tan \\theta = \\frac{O}{A} \\approx \\frac{s}{A} = \\frac{A \\theta}{A} = \\theta \\;, \\\\\n",
    "\\sin \\theta = \\frac{O}{H} \\approx \\frac{O}{A} = \\theta \\;, \\\\\n",
    "\\cos \\theta = \\frac{A}{H} \\approx 1 \\;.\n",
    "\\end{gather*}\n",
    "\n",
    "```\n",
    "\n",
    "For *very* weak oblique shocks, we can make specific approximations:\n",
    "\n",
    "1. The deflection angle $\\delta$ is very small ($ \\delta \\ll 1 $), meaning we can use the **small angle approximations** to say $ \\tan \\delta \\approx \\delta $.\n",
    "\n",
    "2. The shock angle $\\theta$ approaches the Mach angle $\\mu$, where $\\sin \\mu = 1 / M$.\n",
    "\n",
    "Let's apply these approximations to our oblique-shock relationship given by Equation {eq}`eq_oblique`:\n",
    "\n",
    "\\begin{gather*}\n",
    "\\tan \\delta = 2 \\cot \\theta \\left[ \\frac{M_1^2 \\sin^2 \\theta - 1}{M_1^2 (\\gamma + \\cos 2\\theta) + 2} \\right) \\\\\n",
    "\\rightarrow \\delta \\approx (\\text{constants}) \\left( M_1^2 \\sin^2 \\theta - 1 \\right) \\\\\n",
    "\\delta \\propto \\left( M_1^2 \\sin^2 \\theta - 1 \\right) \\;,\n",
    "\\end{gather*}\n",
    "\n",
    "since $\\mu$ is known for a given value of $M_1$. Therefore, we can express the changes in pressure and entropy using the deflection angle:\n",
    "\n",
    "\\begin{gather*}\n",
    "\\frac{\\Delta p}{p_1} \\approx \\frac{2\\gamma}{\\gamma+1} (\\text{constants}) \\; \\delta \\\\\n",
    "\\frac{\\Delta s}{R} \\approx \\frac{2\\gamma}{3 (\\gamma+1)^2} \\left[ (\\text{constants}) \\; \\delta \\right]^3\n",
    "\\end{gather*}\n",
    "\n",
    "Now, we can say that for any weak oblique shock, for any initial conditions, that\n",
    "\n",
    "\\begin{gather*}\n",
    "\\Delta p \\propto \\delta \\phantom{\\;.} \\\\\n",
    "\\Delta s \\propto \\delta^3 \\;.\n",
    "\\end{gather*}"
   ]
  },
  {
   "cell_type": "markdown",
   "id": "e35a521b-b522-4d0c-92ba-e67661a104d3",
   "metadata": {},
   "source": [
    "## Isentropic turns\n",
    "\n",
    "So far we have been analyzing a single weak shock, which deflects the flow by an infinitesimal angle.\n",
    "Now, consider a flow undergoing a turn over a finite angle, but comprised of $n$ small turns.\n",
    "\n",
    "\n",
    ":::{figure-md} fig-many-turns\n",
    "<img src=\"../images/many-small-turns.*\" alt=\"Diagram showing many small shock turns\" class=\"bg-primary mb-1\" width=\"400px\">\n",
    "\n",
    "A finite turning flow accomplished with many small turns from weak shocks.\n",
    ":::\n",
    "\n",
    "With $n$ equal segments, the overall turning angle is $ \\delta_T = n \\delta$. \n",
    "For a given $\\delta_T$, increasing the number of segments $n$ will mean that each deflection $\\delta$ decreases.\n",
    "Each segment is a very weak oblique shock, and for each\n",
    "$ \\Delta p^{\\prime} \\propto \\delta $ and $ \\Delta s^{\\prime} \\propto \\delta^3 $.\n",
    "\n",
    "Then, if we look at the total change in pressure and entropy over the whole turn:\n",
    "\n",
    "\\begin{gather*}\n",
    "\\Delta p = \\sum^n \\Delta p^{\\prime} \\propto n \\, \\delta \\\\\n",
    "\\Delta s = \\sum^n \\Delta s^{\\prime} \\propto n \\, \\delta^3 \\;,\n",
    "\\end{gather*}\n",
    "\n",
    "but $ \\delta = \\delta_T / n $, so\n",
    "\n",
    "\\begin{gather*}\n",
    "\\Delta p \\propto \\lim_{n \\rightarrow \\infty} n \\left( \\frac{\\delta_T}{n} \\right) = \\delta_T \\\\\n",
    "\\Delta s \\propto \\lim_{n \\rightarrow \\infty} n \\left( \\frac{\\delta_T}{n} \\right)^3 = 0 \\;.\n",
    "\\end{gather*}\n",
    "\n",
    "Therefore, as the number of segments increases and $n \\rightarrow \\infty$,\n",
    "\n",
    "1. The wall makes a smooth turn through a finite angle $\\delta_T$, \n",
    "2. The shock waves become Mach waves,\n",
    "3. The Mach number changes continuously,\n",
    "4. There is a finite pressure change continuously through the turn, and\n",
    "5. There is no change in entropy—the process is isentropic.\n",
    "\n",
    "So, we can use smooth turns to achieve isentropic compression with a concave turn, and **isentropic expansion** with a convex turn—smooth or sharp."
   ]
  },
  {
   "cell_type": "markdown",
   "id": "e8f0b29d-6728-4b2a-ab34-cdebed5715a8",
   "metadata": {},
   "source": [
    "## Analysis of Prandtl-Meyer flows\n",
    "\n",
    "Knowing that Prandtl-Meyer expansion/compression is isentropic, we want to know how the Mach number changes for a given turning angle: $ \\Delta M = f( \\delta_T) $.\n",
    "To derive this relationship, we can examine a single Mach wave to see how the flow changes instantaneously in an expansion fan.\n",
    "\n",
    ":::{figure-md} fig-prandtl-meyer\n",
    "<img src=\"../images/prandtl-meyer-analysis.*\" alt=\"Diagram of flow change through a single Mach wave\" class=\"bg-primary mb-1\" width=\"400px\">\n",
    "\n",
    "Diagram of how flow changes through a single Mach wave in a Prandtl-Meyer expansion turn.\n",
    ":::\n",
    "\n",
    "We start with a supersonic flow at Mach number $M$, encountering a expansion Mach wave at angle $\\mu$. The flow turns through angle $d \\nu$ and accelerates to $M + dM$.\n",
    "Looking at the components of velocity, the tangential component $V_t$ does not change through the expansion wave:\n",
    "\n",
    "\\begin{gather*}\n",
    "V_t = V \\cos \\mu = (V + dV) \\cos (\\mu + d \\nu) \\\\\n",
    "V \\cos \\mu =  (V + dV) \\left( \\cos \\mu \\cos d \\nu - \\sin \\mu \\sin d \\nu \\right)\n",
    "\\end{gather*}\n",
    "\n",
    "Since a single Mach wave will only turn the flow by an infinitesimal angle, we can apply the small-angle approximation: $ d\\nu \\ll 1 $, so $\\cos d \\nu \\approx 1$ and $\\sin d\\nu \\approx d\\nu$.\n",
    "Therefore,\n",
    "\n",
    "\\begin{gather*}\n",
    "V \\cos \\mu = (V + dV) \\left( \\cos \\mu - d\\nu \\sin \\mu \\right) \\\\\n",
    "d \\nu = \\cot \\mu \\frac{dV}{V}\n",
    "\\end{gather*}\n",
    "\n",
    "But, since we have that $\\sin \\mu = \\frac{1}{M}$, we know that $\\cos \\mu = \\sqrt{M^2 - 1}$.\n",
    "Then,\n",
    "\n",
    "\\begin{gather*}\n",
    "d \\nu = \\sqrt{M^2 - 1} \\frac{dV}{V} \\\\\n",
    "\\rightarrow d \\nu = \\frac{\\sqrt{M^2 - 1}}{1 + \\frac{\\gamma-1}{2} M^2} \\frac{dM}{M} \\;.\n",
    "\\end{gather*}\n",
    "\n",
    "This gives us $d\\nu = f(\\gamma, M)$, which we can integrate to get $\\nu + \\text{const} = f(\\gamma, M)$. If we specify the constraint that $\\nu = 0$ for $ M = 1$, then the integration constant becomes zero, and the closed-form expression for $\\nu$ is\n",
    "\n",
    "$$\n",
    "\\nu = \\left( \\frac{\\gamma+1}{\\gamma-1} \\right)^{1/2} \\tan^{-1} \\left[ \\frac{\\gamma-1}{\\gamma+1} \\left( M^2 - 1 \\right) \\right]^{1/2} - \\tan^{-1} \\left( M^2 - 1\\right)^{1/2} \\;.\n",
    "$$ (eq_prandtl_meyer)\n",
    "\n",
    "This is the **Prandtl–Meyer function**, the angle measured from the flow direction where $M = 1$, through which a flow turned isentropically reaches $M$.\n",
    "\n",
    "If we know the downstream Mach number, we can solve Equation {eq}`eq_prandtl_meyer` easily to get the associated turning angle. Finding the new Mach number from the angle requires interpolation or numerical solution."
   ]
  },
  {
   "cell_type": "code",
   "execution_count": 3,
   "id": "f697384b-c544-42ae-a6de-8ebb4cc48cfd",
   "metadata": {},
   "outputs": [],
   "source": [
    "def get_prandtl_meyer(mach, gamma=1.4):\n",
    "    '''Evaluate Prandtl-Meyer function at given Mach number.\n",
    "    \n",
    "    Defined as the angle from the flow direction where Mach = 1 through which the \n",
    "    flow turned isentropically reaches the specified Mach number.\n",
    "    '''\n",
    "    return (\n",
    "        np.sqrt((gamma + 1) / (gamma - 1)) *\n",
    "        np.arctan(np.sqrt((gamma - 1)*(mach**2 - 1)/(gamma + 1))) -\n",
    "        np.arctan(np.sqrt(mach**2 - 1))\n",
    "        )\n",
    "\n",
    "def solve_prandtl_meyer(mach, nu, gamma=1.4):\n",
    "    '''Solve for unknown Mach number, given Prandtl-Meyer function (in radians).'''\n",
    "    return (nu - get_prandtl_meyer(mach, gamma))"
   ]
  },
  {
   "cell_type": "markdown",
   "id": "cc15c67c-4573-4e10-896b-8e62907b56ac",
   "metadata": {},
   "source": [
    "### Example: turn from sonic flow\n",
    "\n",
    "Consider a horizontal airflow moving at $M = 1$, which is turned 28° via a sharp corner. \n",
    "A centered Prandtl–Meyer expansion fan isentropically expands the flow.\n",
    "What is the final Mach number?\n",
    "\n",
    "In this case, we can apply the Prandtl–Meyer function directly: $\\nu$ = 28° from the flow direction where $M = 1$. We can then solve for $M_2$:"
   ]
  },
  {
   "cell_type": "code",
   "execution_count": 4,
   "id": "9081dc45-475c-4b0e-b61a-840bd603b7de",
   "metadata": {},
   "outputs": [
    {
     "name": "stdout",
     "output_type": "stream",
     "text": [
      "M2 =  2.059\n"
     ]
    }
   ],
   "source": [
    "gamma = 1.4\n",
    "turn_angle = 28 * np.pi/180\n",
    "\n",
    "# guesses for M2: 2.0 and 3.0\n",
    "root = root_scalar(solve_prandtl_meyer, x0=2.0, x1=3.0, args=(turn_angle, gamma))\n",
    "print(f'M2 = {root.root: .3f}')"
   ]
  },
  {
   "cell_type": "markdown",
   "id": "dd83b385-9c75-419f-9f53-450873bd040f",
   "metadata": {},
   "source": [
    "### Example: turn from general supersonic flow\n",
    "\n",
    "Now, consider a horizontal airflow moving at a Mach number of 2.059, that encounters \n",
    "a sharp turn downward of 12°. What is the final Mach number?\n",
    "\n",
    "We cannot just solve Equation {eq}`eq_prandtl_meyer` because the initial Mach number is not 1.0. \n",
    "\n",
    "However, we can imagine that to obtain the true starting Mach number of 2.059, we hypothetically started with a flow at Mach = 1.0 and expanded it through a turn of 28°.\n",
    "Then, adding an additional 12° will reach the same final Mach number.\n",
    "\n",
    "In other words, modify the problem such that $M_0 = 1 \\rightarrow M_1 \\rightarrow M_2$,\n",
    "and $\\nu_2 = \\Delta \\nu + \\nu_1$, where $\\nu_1$ is the Prandtl–Meyer function evaluated at the actual starting Mach number $M_1$, $\\Delta \\nu$ is the turning angle (12° in this case), and $\\nu_2$ is the Prandtl–Meyer function of the final Mach number $M_2$."
   ]
  },
  {
   "cell_type": "code",
   "execution_count": 5,
   "id": "90008c27-669c-44d4-899c-f20ee34fb84d",
   "metadata": {},
   "outputs": [
    {
     "name": "stdout",
     "output_type": "stream",
     "text": [
      "nu_2 =  40.0°\n",
      "M_2 =  2.538\n"
     ]
    }
   ],
   "source": [
    "nu_1 = 28 * np.pi/180\n",
    "delta_nu = 12 * np.pi/180\n",
    "\n",
    "nu_2 = nu_1 + delta_nu\n",
    "print(f'nu_2 = {nu_2*180/np.pi: .1f}°')\n",
    "\n",
    "# guesses for M2: 2.0 and 3.0\n",
    "root = root_scalar(solve_prandtl_meyer, x0=2.0, x1=3.0, args=(nu_2, gamma))\n",
    "print(f'M_2 = {root.root: .3f}')"
   ]
  },
  {
   "cell_type": "markdown",
   "id": "8e9c37a9-ab61-4451-946b-e5a7b914b148",
   "metadata": {},
   "source": [
    "Therefore, for any Prandtl–Meyer flow, we can find the final Mach number from an arbitrary initial Mach number using\n",
    "\n",
    "$$\n",
    "\\nu_2 = \\nu_1 + \\Delta \\nu \\;,\n",
    "$$ (eq_prandtl_meyer_turn)\n",
    "\n",
    "where $\\nu_1 = f(M_1, \\gamma)$, $\\Delta \\nu$ is the turning angle (positive for convex expanding flow, negative for concave compressing flow), and $\\nu_2 = f(M_2, \\gamma)$."
   ]
  },
  {
   "cell_type": "markdown",
   "id": "fac9f056-246a-455f-8b6d-5a3789d11e63",
   "metadata": {},
   "source": [
    "### Example: isentropic compression\n",
    "\n",
    "Consider a Prandtl–Meyer compression problem: a horizontal airflow at Mach 2.40 encounters a smooth turn upward at 20°. What is the Mach number near the wall after the turn?"
   ]
  },
  {
   "cell_type": "code",
   "execution_count": 6,
   "id": "6b10c52d-7777-4094-8816-566fc8d33b56",
   "metadata": {},
   "outputs": [
    {
     "name": "stdout",
     "output_type": "stream",
     "text": [
      "M_2 =  1.664\n"
     ]
    }
   ],
   "source": [
    "gamma = 1.4\n",
    "M1 = 2.40\n",
    "\n",
    "# turning angle is negative because compression\n",
    "delta_nu = -20 * np.pi/180\n",
    "\n",
    "nu_1 = get_prandtl_meyer(M1, gamma)\n",
    "nu_2 = nu_1 + delta_nu\n",
    "\n",
    "root = root_scalar(solve_prandtl_meyer, x0=1.5, x1=2.0, args=(nu_2, gamma))\n",
    "print(f'M_2 = {root.root: .3f}')"
   ]
  },
  {
   "cell_type": "markdown",
   "id": "a6e62e72-d465-4870-8b62-0829085e10b0",
   "metadata": {},
   "source": [
    "However, what happens away from the wall? The flow needs to turn sharply, and an *oblique shock* forms with a deflection angle $\\delta$ of 20°."
   ]
  },
  {
   "cell_type": "code",
   "execution_count": 7,
   "id": "84cb167e-18ca-4f42-b9ad-a46bafd31455",
   "metadata": {},
   "outputs": [],
   "source": [
    "def oblique_shock_delta(theta, mach, gamma=1.4):\n",
    "    '''Calculate oblique shock deflection from shock angle and Mach'''\n",
    "    return (\n",
    "        np.arctan((2.0/np.tan(theta)) * (\n",
    "            (mach**2 * np.sin(theta)**2 - 1) /\n",
    "            (2 + mach**2 * (gamma + np.cos(2*theta)))\n",
    "            ))\n",
    "        )\n",
    "\n",
    "def solve_oblique_theta(theta, delta, mach, gamma=1.4):\n",
    "    '''Solve for oblique wave angle theta'''\n",
    "    return (delta - oblique_shock_delta(theta, mach, gamma))\n",
    "\n",
    "def get_mach_normal(gamma, mach1):\n",
    "    '''Calculate Mach number after a normal shock'''\n",
    "    return np.sqrt(\n",
    "        (mach1**2 + 2/(gamma - 1))/(2 * gamma * mach1**2/(gamma - 1) - 1)\n",
    "        )"
   ]
  },
  {
   "cell_type": "code",
   "execution_count": 8,
   "id": "435b4c92-2fe6-46e1-b21f-baf36d3be681",
   "metadata": {},
   "outputs": [
    {
     "name": "stdout",
     "output_type": "stream",
     "text": [
      "Theta:  44.34°\n",
      "M2:  1.569\n"
     ]
    }
   ],
   "source": [
    "gamma = 1.4\n",
    "M1 = 2.40\n",
    "delta = 20 * np.pi/180\n",
    "\n",
    "root = root_scalar(\n",
    "    solve_oblique_theta, x0=40*np.pi/180, x1=50*np.pi/180,\n",
    "    args=(delta, M1, gamma)\n",
    "    )\n",
    "theta = root.root\n",
    "print(f'Theta: {theta * 180/np.pi: .2f}°')\n",
    "\n",
    "M1n = M1 * np.sin(theta)\n",
    "M2n = get_mach_normal(gamma, M1n)\n",
    "M2 = M2n / np.sin(theta - delta)\n",
    "print(f'M2: {M2: .3f}')"
   ]
  },
  {
   "cell_type": "markdown",
   "id": "9a25f22b-09f2-486e-803e-a3ea0b5e37fa",
   "metadata": {},
   "source": [
    "Due to the oblique shock, the Mach number away from the wall is lower than it is near the wall, and the pressure will be different too! So, there will need to be another wave phenomenon occuring between the two regions."
   ]
  }
 ],
 "metadata": {
  "kernelspec": {
   "display_name": "Python 3 (ipykernel)",
   "language": "python",
   "name": "python3"
  },
  "language_info": {
   "codemirror_mode": {
    "name": "ipython",
    "version": 3
   },
   "file_extension": ".py",
   "mimetype": "text/x-python",
   "name": "python",
   "nbconvert_exporter": "python",
   "pygments_lexer": "ipython3",
   "version": "3.8.12"
  }
 },
 "nbformat": 4,
 "nbformat_minor": 5
}
