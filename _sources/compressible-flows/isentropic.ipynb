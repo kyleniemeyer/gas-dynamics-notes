{
 "cells": [
  {
   "cell_type": "markdown",
   "metadata": {},
   "source": [
    "# Isentropic, variable-area flows"
   ]
  },
  {
   "cell_type": "code",
   "execution_count": 1,
   "metadata": {},
   "outputs": [],
   "source": [
    "# Necessary modules to solve problems\n",
    "import numpy as np\n",
    "from scipy.optimize import root_scalar\n",
    "\n",
    "%matplotlib inline\n",
    "from matplotlib import pyplot as plt"
   ]
  },
  {
   "cell_type": "code",
   "execution_count": 2,
   "metadata": {
    "tags": [
     "hide-cell"
    ]
   },
   "outputs": [],
   "source": [
    "# these lines are only for helping improve the display\n",
    "import matplotlib_inline.backend_inline\n",
    "matplotlib_inline.backend_inline.set_matplotlib_formats('pdf', 'png')\n",
    "plt.rcParams['figure.dpi']= 150\n",
    "plt.rcParams['savefig.dpi'] = 150"
   ]
  },
  {
   "cell_type": "markdown",
   "metadata": {},
   "source": [
    "## Varying-area adiabatic flows\n",
    "\n",
    "Area change is one of the important factors that can adjust flow properties\n",
    "in compressible flow systems. (The others are friction and heat transfer, which\n",
    "we will cover briefly later.)\n",
    "\n",
    "For now, let's proceed to analyze flows with the following conditions/assumptions:\n",
    "- steady, one-dimensional flow\n",
    "- adiabatic: $ \\delta q = 0 $, $ d s_e = 0$\n",
    "- no shaft work: $ \\delta w_s = 0 $\n",
    "- no or negligible change in potential energy: $ dz = 0 $\n",
    "- no losses (i.e., reversible): $d s_i = 0$\n",
    "\n",
    "As a result of the flow being adiabatic and reversible, it is also isentropic: $ds = 0$.\n",
    "\n",
    "Our goal is now to see how changes in pressure, density, and velocity relate with changing area."
   ]
  },
  {
   "cell_type": "markdown",
   "metadata": {},
   "source": [
    "Starting with the energy equation, apply our conditions:\n",
    "\n",
    "$$\n",
    "\\delta q = \\delta w_s + dh + \\frac{dV^2}{2} + g dz \\\\\n",
    "dh = -V dV\n",
    "$$\n",
    "\n",
    "We also have our thermodynamic relationships derived from Gibbs' identities:\n",
    "\n",
    "$$\n",
    "T ds = dh - \\frac{dp}{\\rho} \\\\\n",
    "dh = \\frac{dp}{\\rho}\n",
    "$$\n",
    "\n",
    "Combined together, we have\n",
    "\n",
    "$$\n",
    "dV = - \\frac{dp}{\\rho V} \\;.\n",
    "$$\n",
    "\n",
    "Substituting this, and the speed of sound ($ dp = a^2 d\\rho $) \n",
    "into the continuity equation:\n",
    "\n",
    "\\begin{align*}\n",
    "0 &= \\frac{d\\rho}{\\rho} + \\frac{dA}{A} + \\frac{dA}{A} \\\\\n",
    "\\frac{dp}{\\rho} &= V^2 \\left( \\frac{d\\rho}{\\rho} + \\frac{dA}{A} \\right) \\\\\n",
    "\\frac{d\\rho}{\\rho} &= M^2 \\left( \\frac{d\\rho}{\\rho} + \\frac{dA}{A} \\right)\n",
    "\\end{align*}\n",
    "\n",
    "we obtain a relationship between area change and density change:\n",
    "\n",
    "$$\n",
    "\\frac{d\\rho}{\\rho} = \\left( \\frac{M^2}{1-M^2} \\right) \\frac{dA}{A} \\;.\n",
    "$$ (eq_density)\n",
    "\n",
    "Substituting this back into the continuity equation, we obtain a relationship between area change and velocity change:\n",
    "\n",
    "$$\n",
    "\\frac{dV}{V} = -\\left( \\frac{1}{1-M^2} \\right) \\frac{dA}{A} \\;.\n",
    "$$ (eq_velocity)\n",
    "\n",
    "And, finally, recalling that $ dV = -dp/\\rho V $, we substitute that into Equation {eq}`eq_velocity` to get a relationsihp between area change and pressure change:\n",
    "\n",
    "$$\n",
    "dp = \\rho V^2 \\left( \\frac{1}{1-M^2} \\right) \\frac{dA}{A} \\;.\n",
    "$$ (eq_pressure)\n",
    "\n",
    "If we focus on situations where the pressure is decreasing ($ dp < 0 $), going from a high-pressure reservoir to a low-pressure receiver, we can examine how changes in the other properties must occur.\n",
    "\n",
    "Examining Equation {eq}`eq_pressure`, we see that $ dp < 0 $ results in either a positive or negative area change for the subsonic and supersonic regimes:\n",
    "\n",
    "$$\n",
    "(-) = \\frac{1}{1-M^2} \\frac{dA}{A} \\;,\n",
    "$$\n",
    "\n",
    "so if $ M < 1 $ then $ dA < 0 $, and if $ M > 1 $ then $ dA > 0 $.\n",
    "Using Equations {eq}`eq_density` and {eq}`eq_velocity` we can see how changes in density and velocity occur in the different regimes as well:\n",
    "\n",
    "\\begin{gather*}\n",
    "M < 1: \\quad \\frac{d\\rho}{\\rho} = (+)(-) \\rightarrow d\\rho < 0 \\\\\n",
    "M > 1: \\quad \\frac{d\\rho}{\\rho} = (-)(+) \\rightarrow d\\rho < 0\n",
    "\\end{gather*}\n",
    "\n",
    "and\n",
    "\n",
    "\\begin{gather*}\n",
    "M < 1: \\quad \\frac{dV}{V} = -(+)(-) \\rightarrow dV > 0 \\\\\n",
    "M > 1: \\quad \\frac{dV}{V} = -(-)(+) \\rightarrow dV > 0\n",
    "\\end{gather*}\n",
    "\n",
    "In summary, for decreasing pressure ($ dp < 0 $), we have:\n",
    "\n",
    "| property | $ M < 1 $ | $ M > 1 $ |\n",
    "|:---------|:---------:|:---------:|\n",
    "| $ A $    |  ↓        |  ↑        |\n",
    "| $ \\rho $ |  ↓        |  ↓        |\n",
    "| $ V $    |  ↑        |  ↑        |\n",
    "\n",
    "This particular example shows how properties change in a **nozzle**, which converts pressure/enthalpy to kinetic energy. We can see that a subsonic nozzle has a converging shape (i.e., has a decreasing area) while a supersonic nozzle is diverging (with an increasing area).\n",
    "\n",
    "In contrast, a **diffuser** converts kinetic energy into enthalpy/pressure, and is associated with increasing pressure ($ dp > 0 $). A subsonic diffuser is diverging, while a supersonic diffuser is converging.\n",
    "\n",
    "For propulsion applications, when we need to accelerate a gas from low speed to supersonic speeds, we will need a **converging-diverging nozzle**. This will be the focus of deeper analysis later."
   ]
  },
  {
   "cell_type": "markdown",
   "metadata": {},
   "source": [
    "## Equations for perfect gases\n",
    "\n",
    "Using our governing equations, we can generate working equations that apply to more-general flows of perfect/ideal gases, where losses (i.e., irreversibilities) may be present.\n",
    "\n",
    "The flow assumptions are:\n",
    "- steady, one-dimensional flow\n",
    "- adiabatic\n",
    "- no shaft work\n",
    "- perfect/ideal gas\n",
    "- no, or negligible, potential energy changes\n",
    "\n",
    "Our goal is to find relations between properties at two points in the flow that are only a function of the gas, Mach numbers at both locations, and entropy change between the two locations: $ f \\left( M_1, M_2, \\gamma, \\delta s \\right) $.\n",
    "\n",
    "Start with the continuity equation applied to a control volume, with flow entering at location 1 and leaving at location 2:\n",
    "\n",
    "$$\n",
    "\\begin{gather*}\n",
    "\\rho_1 A_1 V_1 = \\rho_2 A_2 V_2 \\\\\n",
    "\\frac{A_2}{A_1} = \\frac{\\rho_1 V_1}{\\rho_2 V_2} = \\frac{p_1}{p_2} \\frac{M_1}{M_2} \\left( \\frac{T_2}{T_1} \\right)^{1/2} \\;,\n",
    "\\end{gather*}\n",
    "$$ (eq_continuity_area_ratio)\n",
    "\n",
    "where we got the final relation by using the ideal gas law ($ p = \\rho R T $), Mach number definition ($ V = M a $), and speed of sound expression in an ideal gas ($ a^2 = \\gamma R T $).\n",
    "\n",
    "We can simplify this expression even further by finding ways to express the pressure and temperature ratios as functions of the Mach numbers and gas properties.\n",
    "\n",
    "For the temperature ratio, we can use conservation of energy and our expression for stagnation temperature:\n",
    "\n",
    "$$\n",
    "\\begin{gather*}\n",
    "h_{t1} + q = h_{t2} + w_s \\\\\n",
    "\\rightarrow T_{t1} = T_{t2} \\\\\n",
    "T_t = T \\left(1 + \\frac{\\gamma - 1}{2} M^2 \\right) \\\\\n",
    "\\end{gather*}\n",
    "$$\n",
    "\n",
    "$$\n",
    "\\therefore \\frac{T_2}{T_1} = \\frac{1 + \\frac{\\gamma-1}{2} M_1^2}{1 + \\frac{\\gamma-1}{2} M_2^2}\n",
    "$$ (eq_temperature_ratio)\n",
    "\n",
    "For pressure, recall our relationship for the ratio of stagnation pressures between two locations:\n",
    "\n",
    "$$\n",
    "\\begin{gather*}\n",
    "\\frac{p_{t2}}{p_{t1}} = e^{-\\Delta s / R} \\\\\n",
    "p_t = p \\left(1 + \\frac{\\gamma - 1}{2} M^2 \\right)^{\\gamma / (\\gamma-1)} \\\\\n",
    "\\frac{p_{t2}}{p_{t1}} = \\frac{p_2}{p_1} \\left[ \\frac{1 + \\frac{\\gamma - 1}{2} M_2^2}{1 + \\frac{\\gamma - 1}{2} M_1^2} \\right]^{\\gamma / (\\gamma-1)} = e^{-\\Delta s / R}\n",
    "\\end{gather*}\n",
    "$$\n",
    "\n",
    "$$\n",
    "\\therefore \\frac{p_1}{p_2} = \\left[ \\frac{1 + \\frac{\\gamma - 1}{2} M_2^2}{1 + \\frac{\\gamma - 1}{2} M_1^2} \\right]^{\\gamma / (\\gamma-1)} e^{\\Delta s / R} \\;.\n",
    "$$ (eq_pressure_ratio)\n",
    "\n",
    "Putting the expressions for $ \\frac{p_1}{p_2} $ and $ \\frac{T_2}{T_1} $ back into Equation {eq}`eq_continuity_area_ratio`, we can obtain a final expression for the area ratio between two locations as a function of the Mach numbers at the locations, the specific heat ratio of the gas, and any entropy increase between the locations:\n",
    "\n",
    "$$\n",
    "\\frac{A_2}{A_1} = \\frac{M_1}{M_2} \\left[ \\frac{1 + \\frac{\\gamma-1}{2} M_2^2}{1 + \\frac{\\gamma-1}{2} M_1^2} \\right]^{\\frac{\\gamma+1}{2(\\gamma-1)}} e^{\\Delta s/R} \\;.\n",
    "$$ (eq_area_ratio_loss)"
   ]
  },
  {
   "cell_type": "markdown",
   "metadata": {},
   "source": [
    "### Example: isentropic flow\n",
    "\n",
    "**Problem:** Air flows isentropically through a duct ($\\gamma = 1.4$) where the area is changing from point 1 to 2, \n",
    "with no heat transfer or shaft work. The area ratio is $\\frac{A_2}{A_1} = 2.5$, the flow starts at $M_1 = 0.5$ and 4 bar.\n",
    "Find the Mach number and pressure at the second point in the duct.\n",
    "\n",
    "We can solve this using the classical approach (pre-calculated isentropic tables) or a numerical approach;\n",
    "both follow the same general approach:\n",
    "1. Find $M_2$ associated with the area ratio $A_2 / A_2^*$, then\n",
    "2. Use that to find the stagnation pressure ratio $p_2 / p_{t2}$.\n",
    "\n",
    "$$\n",
    "\\frac{A_2}{A_2^*} = \\frac{A_2}{A_1} \\frac{A_1}{A_1^*} \\frac{A_1^*}{A_2^*} \\;,\n",
    "$$\n",
    "\n",
    "where $\\frac{A_2}{A_1} = 2.5$ is given, we can find $\\frac{A_1}{A_1^*}$ using\n",
    "\n",
    "$$\n",
    "\\frac{A}{A^*} = \\frac{1}{M} \\left( \\frac{1 + \\frac{\\gamma - 1}{2} M^2}{\\frac{\\gamma+1}{2}} \\right)^{\\frac{\\gamma+1}{2(\\gamma-1)}} \\;,\n",
    "$$\n",
    "\n",
    "(either by calculating or looking up in the $\\gamma = 1.4$ table) \n",
    "and $\\frac{A_1^*}{A_2^*} = 1$ because the flow is isentropic."
   ]
  },
  {
   "cell_type": "code",
   "execution_count": 4,
   "metadata": {},
   "outputs": [
    {
     "name": "stdout",
     "output_type": "stream",
     "text": [
      "A1/A1^* = 1.3398\n"
     ]
    }
   ],
   "source": [
    "gamma = 1.4\n",
    "mach_1 = 0.5\n",
    "\n",
    "A2_A1 = 2.5\n",
    "A1star_A2star = 1.0 # isentropic\n",
    "\n",
    "A1_A1star = (1.0/mach_1) * ((1 + 0.5*(gamma-1)*mach_1**2) / ((gamma + 1)/2))**((gamma+1) / (2*(gamma-1)))\n",
    "print(f'A1/A1^* = {A1_A1star:.4f}')"
   ]
  },
  {
   "cell_type": "code",
   "execution_count": 5,
   "metadata": {},
   "outputs": [
    {
     "name": "stdout",
     "output_type": "stream",
     "text": [
      "A2/A2star = 3.3496\n"
     ]
    }
   ],
   "source": [
    "A2_A2star = A2_A1 * A1_A1star * A1star_A2star\n",
    "print(f'A2/A2star = {A2_A2star:.4f}')"
   ]
  },
  {
   "cell_type": "markdown",
   "metadata": {},
   "source": [
    "We can then find $M_2$, because $\\frac{A_2}{A_2*} = f(M_2)$. \n",
    "Our options are to use the $\\gamma = 1.4$ tables and interpolate, or solve the associated equation numerically.\n",
    "\n",
    "**Using tables:** We can find in the tables that:\n",
    "* at $M=0.17$, $A/A^* = 3.46351$\n",
    "* at $M = 0.18$, $A/A^* = 3.27793$\n",
    "\n",
    "and interpolate to find the precise $M_2$:"
   ]
  },
  {
   "cell_type": "code",
   "execution_count": 6,
   "metadata": {},
   "outputs": [
    {
     "name": "stdout",
     "output_type": "stream",
     "text": [
      "M2 = 0.1761\n"
     ]
    }
   ],
   "source": [
    "machs = np.array([0.17, 0.18])\n",
    "areas = np.array([3.46351, 3.27793])\n",
    "mach_2 = (machs[0] * (areas[1] - A2_A2star) + machs[1] * (A2_A2star - areas[0])) / (areas[1] - areas[0])\n",
    "print(f'M2 = {mach_2:.4f}')"
   ]
  },
  {
   "cell_type": "markdown",
   "metadata": {},
   "source": [
    "This is probably sufficient, but we could get a more-accurate result by interpolating using more points and using the `numpy.interp()` function:"
   ]
  },
  {
   "cell_type": "code",
   "execution_count": 7,
   "metadata": {},
   "outputs": [
    {
     "name": "stdout",
     "output_type": "stream",
     "text": [
      "M2 = 0.1761\n"
     ]
    }
   ],
   "source": [
    "machs = np.array([0.15, 0.16, 0.17, 0.18, 0.19])\n",
    "areas = np.array([3.91034, 3.67274, 3.46351, 3.27793, 3.11226])\n",
    "\n",
    "mach_2 = np.interp(A2_A2star, areas[::-1], machs[::-1])\n",
    "print(f'M2 = {mach_2:.4f}')"
   ]
  },
  {
   "cell_type": "markdown",
   "metadata": {},
   "source": [
    "Note that we have to reverse the order of the values, since `interp` expects the x-values to be increasing.\n",
    "Also, we could easily generate these values ourselves for a different value of $\\gamma$, but it is likely\n",
    "easier to just solve the equation directly in that case\n",
    "\n",
    "**Using the equation:** Alternately, we can solve the equation directly using `scipy.optimize.root_scalar`:"
   ]
  },
  {
   "cell_type": "code",
   "execution_count": 8,
   "metadata": {},
   "outputs": [
    {
     "name": "stdout",
     "output_type": "stream",
     "text": [
      "M2 = 0.1760\n"
     ]
    }
   ],
   "source": [
    "def area_function(mach, gamma, area_ratio):\n",
    "    '''Function for area ratio, solving for M2'''\n",
    "    return area_ratio - ((1.0/mach) * ((1 + 0.5*(gamma-1)*mach**2) / ((gamma + 1)/2))**((gamma+1) / (2*(gamma-1))))\n",
    "\n",
    "sol = root_scalar(area_function, args=(gamma, A2_A2star), x0=0.1, x1=0.5)\n",
    "print(f'M2 = {sol.root:.4f}')"
   ]
  },
  {
   "cell_type": "code",
   "execution_count": null,
   "metadata": {},
   "outputs": [],
   "source": []
  }
 ],
 "metadata": {
  "kernelspec": {
   "display_name": "Python 3 (ipykernel)",
   "language": "python",
   "name": "python3"
  },
  "language_info": {
   "codemirror_mode": {
    "name": "ipython",
    "version": 3
   },
   "file_extension": ".py",
   "mimetype": "text/x-python",
   "name": "python",
   "nbconvert_exporter": "python",
   "pygments_lexer": "ipython3",
   "version": "3.8.12"
  }
 },
 "nbformat": 4,
 "nbformat_minor": 4
}
